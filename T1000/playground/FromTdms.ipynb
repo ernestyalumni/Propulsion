{
 "cells": [
  {
   "cell_type": "markdown",
   "metadata": {},
   "source": [
    "# From `.tdms`"
   ]
  },
  {
   "cell_type": "markdown",
   "metadata": {},
   "source": [
    "## Sanity check of file/path location"
   ]
  },
  {
   "cell_type": "code",
   "execution_count": 1,
   "metadata": {},
   "outputs": [],
   "source": [
    "import os"
   ]
  },
  {
   "cell_type": "code",
   "execution_count": 3,
   "metadata": {},
   "outputs": [
    {
     "ename": "NameError",
     "evalue": "name '__file__' is not defined",
     "output_type": "error",
     "traceback": [
      "\u001b[0;31m---------------------------------------------------------------------------\u001b[0m",
      "\u001b[0;31mNameError\u001b[0m                                 Traceback (most recent call last)",
      "\u001b[0;32m<ipython-input-3-daa1e3bc904f>\u001b[0m in \u001b[0;36m<module>\u001b[0;34m\u001b[0m\n\u001b[0;32m----> 1\u001b[0;31m \u001b[0mos\u001b[0m\u001b[0;34m.\u001b[0m\u001b[0mpath\u001b[0m\u001b[0;34m.\u001b[0m\u001b[0mdirname\u001b[0m\u001b[0;34m(\u001b[0m\u001b[0mos\u001b[0m\u001b[0;34m.\u001b[0m\u001b[0mpath\u001b[0m\u001b[0;34m.\u001b[0m\u001b[0mabspath\u001b[0m\u001b[0;34m(\u001b[0m\u001b[0m__file__\u001b[0m\u001b[0;34m)\u001b[0m\u001b[0;34m)\u001b[0m \u001b[0;31m# directory of the script being run\u001b[0m\u001b[0;34m\u001b[0m\u001b[0m\n\u001b[0m",
      "\u001b[0;31mNameError\u001b[0m: name '__file__' is not defined"
     ]
    }
   ],
   "source": [
    "# os.path.dirname(os.path.abspath(__file__)) # directory of the script being run"
   ]
  },
  {
   "cell_type": "code",
   "execution_count": 4,
   "metadata": {},
   "outputs": [
    {
     "data": {
      "text/plain": [
       "'/home/mobicfd/ReacCFD/masters/Propulsion/T1000/playground'"
      ]
     },
     "execution_count": 4,
     "metadata": {},
     "output_type": "execute_result"
    }
   ],
   "source": [
    "os.getcwd()"
   ]
  },
  {
   "cell_type": "code",
   "execution_count": 10,
   "metadata": {},
   "outputs": [
    {
     "name": "stdout",
     "output_type": "stream",
     "text": [
      "/home/mobicfd/ReacCFD\n"
     ]
    }
   ],
   "source": [
    "print(os.path.abspath(\"../../../../\"))\n",
    "# os.listdir(os.path.abspath(\"../../../../\"))"
   ]
  },
  {
   "cell_type": "code",
   "execution_count": 12,
   "metadata": {},
   "outputs": [
    {
     "name": "stdout",
     "output_type": "stream",
     "text": [
      "True\n"
     ]
    },
    {
     "data": {
      "text/plain": [
       "['doc',\n",
       " 'lib',\n",
       " 'test',\n",
       " 'LICENSE.txt',\n",
       " '.travis.yml',\n",
       " 'tdms.gemspec',\n",
       " 'README.md',\n",
       " 'Rakefile',\n",
       " '.git',\n",
       " 'demo.rb']"
      ]
     },
     "execution_count": 12,
     "metadata": {},
     "output_type": "execute_result"
    }
   ],
   "source": [
    "print(os.path.isdir(os.path.abspath(\"../../../../\") + \"/tdms/\"))\n",
    "os.listdir(os.path.abspath(\"../../../../\") + \"/tdms/\")"
   ]
  },
  {
   "cell_type": "code",
   "execution_count": 5,
   "metadata": {},
   "outputs": [],
   "source": [
    "tdms_test_fixtures_path = os.path.abspath(\"../../../../\") + \"/tdms/test/fixtures/\""
   ]
  },
  {
   "cell_type": "code",
   "execution_count": 17,
   "metadata": {},
   "outputs": [
    {
     "name": "stdout",
     "output_type": "stream",
     "text": [
      "type_44_timestamp_one_segment.tdms\n",
      "type_20_string_three_segments.tdms\n",
      "type_09_single_two_channels_one_segment.tdms\n",
      "type_07_uint32_two_channels_one_segment.tdms\n",
      "type_21_boolean_two_channels_one_segment.tdms\n",
      "type_03_int32_one_segment.tdms\n",
      "type_05_uint8_one_segment.tdms\n",
      "type_04_int64_two_channels_one_segment.tdms\n",
      "type_19_single_with_unit_two_channels_one_segment.tdms\n",
      "type_1a_double_with_unit_one_segment.tdms\n",
      "type_06_uint16_one_segment.tdms\n",
      "type_21_boolean_three_segments.tdms\n",
      "type_1a_double_with_unit_three_segments.tdms\n",
      "type_03_int32_two_channels_one_segment.tdms\n",
      "type_09_single_three_segments.tdms\n",
      "type_06_uint16_three_segments.tdms\n",
      "type_08_uint64_two_channels_one_segment.tdms\n",
      "type_08_uint64_three_segments.tdms\n",
      "type_08_uint64_one_segment.tdms\n",
      "type_04_int64_one_segment.tdms\n",
      "type_04_int64_three_segments.tdms\n",
      "type_03_int32_three_segments.tdms\n",
      "type_02_int16_three_segments.tdms\n",
      "type_05_uint8_three_segments.tdms\n",
      "type_44_timestamp_three_segments.tdms\n",
      "type_02_int16_two_channels_one_segment.tdms\n",
      "type_01_int8_two_channels_one_segment.tdms\n",
      "type_19_single_with_unit_one_segment.tdms\n",
      "type_21_boolean_one_segment.tdms\n",
      "type_0a_double_one_segment.tdms\n",
      "type_1a_double_with_unit_two_channels_one_segment.tdms\n",
      "type_01_int8_one_segment.tdms\n",
      "type_07_uint32_three_segments.tdms\n",
      "type_0a_double_two_channels_one_segment.tdms\n",
      "type_19_single_with_unit_three_segments.tdms\n",
      "type_20_double_two_channels_one_segment.tdms\n",
      "type_0a_double_three_segments.tdms\n",
      "type_06_uint16_two_channels_one_segment.tdms\n",
      "type_01_int8_three_segments.tdms\n",
      "example.tdms\n",
      "type_44_timestamp_two_channels_one_segment.tdms\n",
      "type_02_int16_one_segment.tdms\n",
      "type_07_uint32_one_segment.tdms\n",
      "type_05_uint8_two_channels_one_segment.tdms\n",
      "type_20_string_two_channels_one_segment.tdms\n",
      "type_09_single_one_segment.tdms\n",
      "type_20_string_two_segments.tdms\n",
      "type_20_string_one_segment.tdms\n"
     ]
    }
   ],
   "source": [
    "for file in os.listdir(tdms_test_fixtures_path):\n",
    "    if file.endswith(\".tdms\"):\n",
    "        print(file)"
   ]
  },
  {
   "cell_type": "markdown",
   "metadata": {},
   "source": [
    "## Typical read usage"
   ]
  },
  {
   "cell_type": "markdown",
   "metadata": {},
   "source": [
    "cf. https://nptdms.readthedocs.io/en/latest/quickstart.html"
   ]
  },
  {
   "cell_type": "code",
   "execution_count": 2,
   "metadata": {},
   "outputs": [],
   "source": [
    "import nptdms\n",
    "from nptdms import TdmsFile"
   ]
  },
  {
   "cell_type": "code",
   "execution_count": 5,
   "metadata": {},
   "outputs": [
    {
     "name": "stdout",
     "output_type": "stream",
     "text": [
      "<class 'nptdms.tdms.TdmsFile'>\n",
      "['__class__', '__delattr__', '__dict__', '__dir__', '__doc__', '__eq__', '__format__', '__ge__', '__getattribute__', '__gt__', '__hash__', '__init__', '__le__', '__lt__', '__module__', '__ne__', '__new__', '__reduce__', '__reduce_ex__', '__repr__', '__setattr__', '__sizeof__', '__str__', '__subclasshook__', '__weakref__', '_path', '_read_segments', 'as_dataframe', 'as_hdf', 'channel_data', 'group_channels', 'groups', 'memmap_dir', 'object', 'objects', 'segments']\n"
     ]
    }
   ],
   "source": [
    "example_tdms_file = TdmsFile(tdms_test_fixtures_path + \"example.tdms\")\n",
    "print(type(example_tdms_file))\n",
    "print(dir(example_tdms_file))\n",
    "#example_channel = example_tdms_file.object('Group', 'Channel1')\n",
    "#data = channel.data"
   ]
  },
  {
   "cell_type": "markdown",
   "metadata": {},
   "source": [
    "cf. https://nptdms.readthedocs.io/en/latest/apireference.html\n",
    "\n",
    "objects – A dictionary of objects in the TDMS file, where the keys are the object paths."
   ]
  },
  {
   "cell_type": "code",
   "execution_count": 12,
   "metadata": {},
   "outputs": [
    {
     "name": "stdout",
     "output_type": "stream",
     "text": [
      "<class 'collections.OrderedDict'>\n",
      "['__class__', '__contains__', '__delattr__', '__delitem__', '__dict__', '__dir__', '__doc__', '__eq__', '__format__', '__ge__', '__getattribute__', '__getitem__', '__gt__', '__hash__', '__init__', '__iter__', '__le__', '__len__', '__lt__', '__ne__', '__new__', '__reduce__', '__reduce_ex__', '__repr__', '__reversed__', '__setattr__', '__setitem__', '__sizeof__', '__str__', '__subclasshook__', 'clear', 'copy', 'fromkeys', 'get', 'items', 'keys', 'move_to_end', 'pop', 'popitem', 'setdefault', 'update', 'values']\n",
      "odict_keys([\"/'EXAMPLE'/'Time'\", \"/'EXAMPLE'/'Speed'\", \"/'EXAMPLE'/'Revs'\", \"/'EXAMPLE'/'Torque'\", \"/'EXAMPLE'\", \"/'Noise data'/'Noise_1'\", \"/'Noise data'\", '/', \"/'Noise data'/'Noise_2'\", \"/'Noise data'/'Noise_3'\", \"/'Noise data results'/'StatisticsText'\", \"/'Noise data results'/'Res_Noise_1'\", \"/'Noise data results'/'Res_Noise_2'\", \"/'Noise data results'/'Res_Noise_3'\", \"/'Noise data results'\", \"/'Room temperatures'/'Temperature_1'\", \"/'Room temperatures'/'Temperature_2'\", \"/'Room temperatures'/'Temperature_3'\", \"/'Room temperatures'\"])\n"
     ]
    }
   ],
   "source": [
    "print(type(example_tdms_file.objects))\n",
    "print(dir(example_tdms_file.objects))\n",
    "print(example_tdms_file.objects.keys())"
   ]
  },
  {
   "cell_type": "markdown",
   "metadata": {},
   "source": [
    "### With `memmap`\n",
    "\n",
    "```\n",
    " __init__(file, memmap_dir=None)\n",
    "```\n",
    "Initialise a new TDMS file object, reading all data.\n",
    "\n",
    "`memmap_dir` – The directory to store memmapped data files in, or None to read data into memory. The data files are created as temporary files and are deleted when the channel data is no longer used. `tempfile.gettempdir()` can be used to get the default temporary file directory."
   ]
  },
  {
   "cell_type": "code",
   "execution_count": 3,
   "metadata": {},
   "outputs": [
    {
     "name": "stdout",
     "output_type": "stream",
     "text": [
      "/home/mobicfd/ReacCFD/masters/Propulsion/T1000/playground\n"
     ]
    }
   ],
   "source": [
    "print(os.path.abspath(os.getcwd()))"
   ]
  },
  {
   "cell_type": "code",
   "execution_count": 6,
   "metadata": {},
   "outputs": [],
   "source": [
    "example_tdms_file = TdmsFile(tdms_test_fixtures_path + \"example.tdms\", os.path.abspath(os.getcwd()) + \"/tempdata/\")"
   ]
  },
  {
   "cell_type": "code",
   "execution_count": 7,
   "metadata": {},
   "outputs": [
    {
     "name": "stdout",
     "output_type": "stream",
     "text": [
      "/home/mobicfd/ReacCFD/masters/Propulsion/T1000/playground/tempdata/\n"
     ]
    }
   ],
   "source": [
    "print(example_tdms_file.memmap_dir)"
   ]
  },
  {
   "cell_type": "markdown",
   "metadata": {},
   "source": [
    "cf. https://nptdms.readthedocs.io/en/latest/apireference.html\n",
    "```\n",
    "object(*path)\n",
    "```\n",
    "Get a TDMS object from a file."
   ]
  },
  {
   "cell_type": "markdown",
   "metadata": {},
   "source": [
    "`.groups`\n",
    "Return the names of groups in the file."
   ]
  },
  {
   "cell_type": "code",
   "execution_count": 8,
   "metadata": {},
   "outputs": [
    {
     "name": "stdout",
     "output_type": "stream",
     "text": [
      "['EXAMPLE', 'Noise data', 'Noise data results', 'Room temperatures']\n"
     ]
    }
   ],
   "source": [
    "print(example_tdms_file.groups())"
   ]
  },
  {
   "cell_type": "code",
   "execution_count": null,
   "metadata": {},
   "outputs": [],
   "source": []
  }
 ],
 "metadata": {
  "kernelspec": {
   "display_name": "Python 3",
   "language": "python",
   "name": "python3"
  },
  "language_info": {
   "codemirror_mode": {
    "name": "ipython",
    "version": 3
   },
   "file_extension": ".py",
   "mimetype": "text/x-python",
   "name": "python",
   "nbconvert_exporter": "python",
   "pygments_lexer": "ipython3",
   "version": "3.5.2"
  }
 },
 "nbformat": 4,
 "nbformat_minor": 2
}
