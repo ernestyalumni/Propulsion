{
    "cells": [
        {
            "cell_type": "markdown",
            "source": [
                "# Setup Jupyter Notebook"
            ],
            "metadata": {}
        },
        {
            "cell_type": "code",
            "execution_count": 2,
            "source": [
                "from pathlib import Path\n",
                "import sys\n",
                "\n",
                "notebook_directory_parent = Path.cwd().resolve().parent.parent\n",
                "if str(notebook_directory_parent) not in sys.path:\n",
                "    sys.path.append(str(notebook_directory_parent))"
            ],
            "outputs": [],
            "metadata": {}
        },
        {
            "cell_type": "code",
            "execution_count": 4,
            "source": [
                "%matplotlib inline\n",
                "\n",
                "import numpy as np\n",
                "import matplotlib.pyplot as plt\n",
                "import control"
            ],
            "outputs": [],
            "metadata": {}
        },
        {
            "cell_type": "markdown",
            "source": [
                "cf. \"Obtaining Cascaded, Parallel, and Feedback (Closed-Loop) Transfer Functions with MATLAB.\" Modern Control Engineer, Ogatu. 5th. Ed."
            ],
            "metadata": {}
        },
        {
            "cell_type": "code",
            "execution_count": 5,
            "source": [
                "G1 = control.tf([10.], [1.0, 2.0, 10.])\n",
                "print(G1)\n",
                "G2 = control.tf([5.], [1., 5.])\n",
                "print(G2)"
            ],
            "outputs": [
                {
                    "output_type": "stream",
                    "name": "stdout",
                    "text": [
                        "\n",
                        "      10\n",
                        "--------------\n",
                        "s^2 + 2 s + 10\n",
                        "\n",
                        "\n",
                        "  5\n",
                        "-----\n",
                        "s + 5\n",
                        "\n"
                    ]
                }
            ],
            "metadata": {}
        },
        {
            "cell_type": "markdown",
            "source": [],
            "metadata": {}
        },
        {
            "cell_type": "code",
            "execution_count": 6,
            "source": [
                "Gseries = control.series(G1, G2)\n",
                "print(Gseries)\n",
                "Gparallel = control.parallel(G1, G2)\n",
                "print(Gparallel)\n",
                "Gfeedback = control.feedback(G1, G2)\n",
                "print(Gfeedback)"
            ],
            "outputs": [
                {
                    "output_type": "stream",
                    "name": "stdout",
                    "text": [
                        "\n",
                        "          50\n",
                        "-----------------------\n",
                        "s^3 + 7 s^2 + 20 s + 50\n",
                        "\n",
                        "\n",
                        "  5 s^2 + 20 s + 100\n",
                        "-----------------------\n",
                        "s^3 + 7 s^2 + 20 s + 50\n",
                        "\n",
                        "\n",
                        "       10 s + 50\n",
                        "------------------------\n",
                        "s^3 + 7 s^2 + 20 s + 100\n",
                        "\n"
                    ]
                }
            ],
            "metadata": {}
        },
        {
            "cell_type": "markdown",
            "source": [],
            "metadata": {}
        }
    ],
    "metadata": {
        "orig_nbformat": 4,
        "language_info": {
            "name": "python",
            "version": "3.8.10",
            "mimetype": "text/x-python",
            "codemirror_mode": {
                "name": "ipython",
                "version": 3
            },
            "pygments_lexer": "ipython3",
            "nbconvert_exporter": "python",
            "file_extension": ".py"
        },
        "kernelspec": {
            "name": "python3",
            "display_name": "Python 3.8.10 64-bit ('venv': venv)"
        },
        "interpreter": {
            "hash": "de09550c5c0a2982aae1adbade0398a53625bd0b468c81e2a888cf57646e06b3"
        }
    },
    "nbformat": 4,
    "nbformat_minor": 2
}