{
 "cells": [
  {
   "cell_type": "markdown",
   "metadata": {},
   "source": [
    "# Setup Jupyter notebook "
   ]
  },
  {
   "cell_type": "code",
   "execution_count": 1,
   "metadata": {},
   "outputs": [],
   "source": [
    "from pathlib import Path\n",
    "import sys\n",
    "\n",
    "# This line is dependent upon relative path, thus informing number of times to call `.parent`\n",
    "notebook_directory_parent = Path.cwd().resolve().parent.parent\n",
    "if str(notebook_directory_parent) not in sys.path:\n",
    "    sys.path.append(str(notebook_directory_parent))"
   ]
  },
  {
   "cell_type": "code",
   "execution_count": 2,
   "metadata": {},
   "outputs": [],
   "source": [
    "import sympy"
   ]
  },
  {
   "cell_type": "code",
   "execution_count": 3,
   "metadata": {},
   "outputs": [],
   "source": [
    "A = sympy.Symbol(\"A\", real=True)\n",
    "B = sympy.Symbol(\"B\", real=True)\n",
    "c = sympy.Symbol(\"c\", real=True)\n",
    "d = sympy.Symbol(\"d\", real=True)\n",
    "omega_0 = sympy.Symbol(r'\\omega_0', real=True, nonnegative=True)\n",
    "omega_d = sympy.Symbol(r'\\omega_d', real=True, nonnegative=True)\n",
    "omega = sympy.Symbol(r'\\omega', real=True, nonnegative=True)\n",
    "F_0 = sympy.Symbol(r'F_0', real=True, nonnegative=True, nonzero=True)\n",
    "m = sympy.Symbol(\"m\", real=True, nonnegative=True, nonzero=True)\n",
    "Gamma = sympy.Symbol(r'\\Gamma', real=True)\n",
    "x_0 = sympy.Symbol(r'x_0', real=True)\n",
    "v_0 = sympy.Symbol(r'v_0', real=True)"
   ]
  },
  {
   "cell_type": "markdown",
   "metadata": {},
   "source": [
    "$\n",
    "\\begin{aligned}\n",
    "& A = \\frac{ -\\Gamma \\omega_d F_0 / m }{ (\\omega_0^2 - \\omega_d^2)^2 + (\\Gamma \\omega_d)^2 }\n",
    "& B = \\frac{ (\\omega_0^2 - \\omega_d^2) F_0 / m }{ (\\omega_0^2 - \\omega_d^2)^2 + (\\omega_d \\Gamma)^2 } \\\\\n",
    "& \\omega^2 = \\omega_0^2 - \\frac{\\Gamma^2}{4}, \\\\\n",
    "& c = x(0) - A, \\\\\n",
    "& d = \\frac{1}{\\omega} \\left[ \\dot{x}(0) + \\frac{\\Gamma}{2} (x(0) - A) - \\omega_d B \\right]\n",
    "\\end{aligned}\n",
    "$"
   ]
  },
  {
   "cell_type": "code",
   "execution_count": 4,
   "metadata": {},
   "outputs": [],
   "source": [
    "EqA = sympy.Eq(A, -Gamma*omega_d*F_0/m/((omega_0**2 - omega_d**2)**2 + (Gamma *omega_d)**2))\n",
    "EqB = sympy.Eq(B, (omega_0**2 - omega_d**2)*F_0/m/((omega_0**2 - omega_d**2)**2 + (omega_d * Gamma)**2) )\n",
    "Eqc = sympy.Eq(c, x_0 - A)\n",
    "Eqd = sympy.Eq(d, (v_0 + Gamma/2 * (x_0 - A) - omega_d*B)/omega)\n",
    "Eqomega = sympy.Eq(omega**2, omega_0**2 - Gamma**2 / 4.)"
   ]
  },
  {
   "cell_type": "markdown",
   "metadata": {},
   "source": [
    "Given that $t =0$, to $t=110 \\, sec.$,\n",
    "\n",
    "$m=1 \\, kg$\n",
    "\n",
    "and with $\\Gamma = 2 \\zeta \\omega_n$,\n",
    "\n",
    "$\\omega_0 = 1 \\, \\text{rad}/\\text{sec}$ \n",
    "\n",
    "$\\Gamma = 2 \\zeta \\omega_n = 2 \\cdot 0.03 \\cdot 1 \\, \\text{rad}/\\text{s} = 0.06 \\, \\text{rad}/\\text{sec}$ \n",
    "\n",
    "$F_0 = 1 \\, N$ \n",
    "\n",
    "$\\omega_d = 0.4 \\, \\text{rad}/\\text{sec}$\n",
    "\n",
    "See **Orbital Mechanics for Engineering Students**, Curtis, pp. 42, Ch. 1 Dynamics of Point Masses, Example 1.17 for this example."
   ]
  },
  {
   "cell_type": "code",
   "execution_count": 6,
   "metadata": {},
   "outputs": [
    {
     "name": "stdout",
     "output_type": "stream",
     "text": [
      "Eq(A, -0.0339858618814573)\n",
      "Eq(B, 1.18950516585101)\n",
      "Eq(c, 0.0339858618814573)\n",
      "Eq(\\omega**2, 0.9991)\n",
      "0.999549898704412\n",
      "Eq(d, -0.474996286928106)\n"
     ]
    }
   ],
   "source": [
    "print(EqA.subs(omega_0, 1).subs(omega_d, 0.4).subs(F_0, 1).subs(Gamma, 0.06).subs(m, 1))\n",
    "print(EqB.subs(omega_0, 1).subs(omega_d, 0.4).subs(F_0, 1).subs(Gamma, 0.06).subs(m, 1))\n",
    "print(Eqc.subs(A, -0.0339858618814573).subs(x_0, 0))\n",
    "print(Eqomega.subs(omega_0, 1).subs(Gamma, 0.06))\n",
    "print(sympy.sqrt(0.9991))\n",
    "print(Eqd.subs(omega, sympy.sqrt(0.9991)).subs(v_0, 0).subs(Gamma, 0.06).subs(x_0, 0) \\\n",
    "      .subs(A, -0.0339858618814573).subs(B, 1.18950516585101).subs(omega_d,0.4))"
   ]
  },
  {
   "cell_type": "markdown",
   "metadata": {},
   "source": [
    "$x(t) = e^{\\frac{-\\Gamma t}{2} } (c\\cos{(\\omega t)} + d \\sin{ (\\omega t)} ) + A \\cos{ (\\omega_d t)} + B \\sin{(\\omega_d t)}$\n"
   ]
  },
  {
   "cell_type": "code",
   "execution_count": 11,
   "metadata": {},
   "outputs": [
    {
     "name": "stdout",
     "output_type": "stream",
     "text": [
      "(-0.474996286928106*sin(0.999549898704412*t) + 0.0339858618814573*cos(0.999549898704412*t))*exp(-0.03*t) + 1.18950516585101*sin(0.4*t) - 0.0339858618814573*cos(0.4*t)\n"
     ]
    }
   ],
   "source": [
    "t = sympy.Symbol('t', real=True)\n",
    "A_value = -0.0339858618814573\n",
    "B_value = 1.18950516585101\n",
    "c_value = 0.0339858618814573\n",
    "d_value = -0.474996286928106\n",
    "omega_value = sympy.sqrt(0.9991)\n",
    "omega_d_value = 0.4\n",
    "response_x = sympy.exp(-0.06 * t / 2.0) * (c_value * sympy.cos(omega_value * t) + \\\n",
    "                                           d_value * sympy.sin(omega_value * t)) + \\\n",
    "A_value * sympy.cos(omega_d_value * t) + B_value * sympy.sin(omega_d_value * t)\n",
    "print(response_x)"
   ]
  },
  {
   "cell_type": "code",
   "execution_count": 12,
   "metadata": {},
   "outputs": [
    {
     "name": "stdout",
     "output_type": "stream",
     "text": [
      "0 0\n",
      "20 0.952533660328207\n",
      "40 -0.424905155163017\n",
      "60 -1.07509638224269\n",
      "80 0.669750999207618\n",
      "100 0.923281796525534\n"
     ]
    }
   ],
   "source": [
    "for t_value in range(0, 110, 20):\n",
    "    print(t_value, response_x.subs(t, t_value))"
   ]
  },
  {
   "cell_type": "code",
   "execution_count": 13,
   "metadata": {},
   "outputs": [
    {
     "name": "stdout",
     "output_type": "stream",
     "text": [
      "0.989358246623382\n",
      "-0.287903316665065\n"
     ]
    }
   ],
   "source": [
    "print(sympy.sin(20 * 0.4))\n",
    "print(sympy.sin(40 * 0.4))"
   ]
  },
  {
   "cell_type": "code",
   "execution_count": null,
   "metadata": {},
   "outputs": [],
   "source": []
  }
 ],
 "metadata": {
  "kernelspec": {
   "display_name": "Python 3 (ipykernel)",
   "language": "python",
   "name": "python3"
  },
  "language_info": {
   "codemirror_mode": {
    "name": "ipython",
    "version": 3
   },
   "file_extension": ".py",
   "mimetype": "text/x-python",
   "name": "python",
   "nbconvert_exporter": "python",
   "pygments_lexer": "ipython3",
   "version": "3.10.6"
  }
 },
 "nbformat": 4,
 "nbformat_minor": 2
}
