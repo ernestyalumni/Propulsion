{
 "cells": [
  {
   "cell_type": "markdown",
   "metadata": {},
   "source": [
    "## Setup Jupyter Notebook"
   ]
  },
  {
   "cell_type": "code",
   "execution_count": 1,
   "metadata": {},
   "outputs": [],
   "source": [
    "from pathlib import Path\n",
    "import sys\n",
    "\n",
    "notebook_directory_parent = Path.cwd().resolve().parent.parent\n",
    "if str(notebook_directory_parent) not in sys.path:\n",
    "    sys.path.append(str(notebook_directory_parent))"
   ]
  },
  {
   "cell_type": "code",
   "execution_count": 2,
   "metadata": {},
   "outputs": [],
   "source": [
    "%matplotlib inline\n",
    "\n",
    "import numpy as np\n",
    "import scipy\n",
    "import sympy\n",
    "from numpy import linspace\n",
    "from scipy.integrate import solve_ivp\n",
    "\n",
    "import matplotlib.pyplot as plt"
   ]
  },
  {
   "cell_type": "code",
   "execution_count": 3,
   "metadata": {},
   "outputs": [],
   "source": [
    "from T1000.numerical.RungeKuttaMethod import RungeKuttaMethod\n",
    "from T1000.numerical.RKMethods.bCoefficients import bCoefficients\n",
    "from T1000.numerical.RKMethods.DOPRI5Coefficients import DOPRI5Coefficients"
   ]
  },
  {
   "cell_type": "markdown",
   "metadata": {},
   "source": [
    "cf. [Examples for solve_ivp](https://docs.scipy.org/doc/scipy/reference/generated/scipy.integrate.solve_ivp.html#scipy.integrate.solve_ivp)"
   ]
  },
  {
   "cell_type": "code",
   "execution_count": 4,
   "metadata": {},
   "outputs": [],
   "source": [
    "def exponential_decay(t, y):\n",
    "    return -0.5 * y"
   ]
  },
  {
   "cell_type": "code",
   "execution_count": 5,
   "metadata": {
    "scrolled": true
   },
   "outputs": [
    {
     "name": "stdout",
     "output_type": "stream",
     "text": [
      "t\n",
      " [ 0.          0.11487653  1.26364188  3.06061781  4.81611105  6.57445806\n",
      "  8.33328988 10.        ]\n",
      "y\n",
      " [[2.         1.88836035 1.06327177 0.43319312 0.18017253 0.07483045\n",
      "  0.03107158 0.01350781]\n",
      " [4.         3.7767207  2.12654355 0.86638624 0.36034507 0.14966091\n",
      "  0.06214316 0.02701561]\n",
      " [8.         7.5534414  4.25308709 1.73277247 0.72069014 0.29932181\n",
      "  0.12428631 0.05403123]]\n"
     ]
    }
   ],
   "source": [
    "sol = solve_ivp(exponential_decay, [0, 10], [2, 4, 8])\n",
    "print(\"t\\n\", sol.t)\n",
    "print(\"y\\n\", sol.y)"
   ]
  },
  {
   "cell_type": "markdown",
   "metadata": {},
   "source": [
    "# An example for unit tests\n",
    "\n",
    "cf. [Runge-Kutta method from OK state](https://math.okstate.edu/people/yqwang/teaching/math4513_fall11/Notes/rungekutta.pdf)\n",
    "\n",
    "Depending on one's notation, for \"stage\" $s=4$, or $m=4$, then for\n",
    "\n",
    "$\\alpha_2 = \\frac{1}{2}, \\, \\alpha_3 = \\frac{1}{2}, \\, \\alpha_4 = 1 \\equiv \\\\\n",
    "c_2 = \\frac{1}{2}, \\, c_3 = \\frac{1}{2}, \\, c_4 = 1$\n",
    "\n",
    "$\\beta_{21} = \\frac{1}{2}, \\, \\beta_{31} = 0, \\, \\beta_{32} = \\frac{1}{2}, \\, \\beta_{41} = \\beta_{42} = 0, \\, \\beta_{43} = 1 \\equiv \\\\\n",
    "a_{21} = \\frac{1}{2}, \\, a_{31} =0, \\, a_{32} = \\frac{1}{2}, \\, a_{41} = a_{42} = 0, \\, a_{43} = 1$\n",
    "\n",
    "$c_1 = c_4 = \\frac{1}{6}, \\, c_2 = c_3 = \\frac{1}{3} \\equiv b_1 = b_4 = \\frac{1}{6}, \\, b_2 = b_3 = \\frac{1}{3}$ \n",
    "\n",
    "(authors having different notation sucks).\n"
   ]
  },
  {
   "cell_type": "code",
   "execution_count": 5,
   "metadata": {},
   "outputs": [],
   "source": [
    "cs_for_rk4 = [0.5, 0.5, 1]\n",
    "as_for_rk4 = [0.5, 0, 0.5, 0, 0, 1]\n",
    "bs_for_rk4 = [1/6., 1/3., 1/3., 1/6.]\n",
    "rk4 = RungeKuttaMethod(4, cs_for_rk4, as_for_rk4, bs_for_rk4)"
   ]
  },
  {
   "cell_type": "markdown",
   "metadata": {},
   "source": [
    "Consider example\n",
    "\n",
    "$\\begin{cases}\n",
    "    & y'  =y -x^2 + 1\\\\\n",
    "    & y(0) = 0.5\n",
    "\\end{cases}$\n",
    "\n",
    "\n",
    "Its exact solution is \n",
    "$ y= y(x) = x^2 + 2x + 1 - \\frac{1}{2} \\exp{x}$"
   ]
  },
  {
   "cell_type": "code",
   "execution_count": 9,
   "metadata": {},
   "outputs": [],
   "source": [
    "def derivative(x, y):\n",
    "    return y - np.power(x, 2) + 1.0\n",
    "\n",
    "def exact_y(x):\n",
    "    return np.power(x, 2) + 2.0 * x + 1.0 - 0.5 * np.exp(x)"
   ]
  },
  {
   "cell_type": "markdown",
   "metadata": {},
   "source": [
    "1. **We first solve this problem using RK4 with** $h = 0.5$ and from $t=0$ to $t=2$.\n",
    "\n",
    "With step size $h = 0.5$, it takes 4 steps: $t_0 = 0, \\, t_1 = 0.5, \\, t_2 = 1, \\, t_3 = 1.5, \\, t_4 = 2$\n",
    "\n",
    "*Step 0* \\quad \\, $x_0 = 0, \\, y_0 = 0.5$ \n",
    "\n",
    "*Step 1* \\quad \\, $x_1 = 0.5, \\, h = 0.5$"
   ]
  },
  {
   "cell_type": "code",
   "execution_count": 12,
   "metadata": {},
   "outputs": [
    {
     "name": "stdout",
     "output_type": "stream",
     "text": [
      "[1.5, 1.8125, 1.890625, 2.1953125]\n",
      "1.4251302083333333\n",
      "0.5\n",
      "1.425639364649936\n"
     ]
    }
   ],
   "source": [
    "ks0 = rk4._calculate_k_coefficients(0.5, 0.0, 0.5, derivative)\n",
    "print(ks0)\n",
    "y1 = rk4.calculate_next_step(0.5, 0.0, 0.5, derivative)\n",
    "print(y1)\n",
    "print(exact_y(0))\n",
    "print(exact_y(0.5))"
   ]
  },
  {
   "cell_type": "markdown",
   "metadata": {},
   "source": [
    "*Step 2* $\\quad \\, x_2 = 1$"
   ]
  },
  {
   "cell_type": "code",
   "execution_count": 13,
   "metadata": {},
   "outputs": [
    {
     "name": "stdout",
     "output_type": "stream",
     "text": [
      "[2.175130208333333, 2.4064127604166665, 2.4642333984375, 2.657246907552083]\n",
      "2.6396026611328125\n",
      "2.6408590857704777\n"
     ]
    }
   ],
   "source": [
    "ks1 = rk4._calculate_k_coefficients(y1, 0.5, 0.5, derivative)\n",
    "print(ks1)\n",
    "y2 = rk4.calculate_next_step(y1, 0.5, 0.5, derivative)\n",
    "print(y2)\n",
    "print(exact_y(1.))"
   ]
  },
  {
   "cell_type": "markdown",
   "metadata": {},
   "source": [
    "## Calculated values for unit tests"
   ]
  },
  {
   "cell_type": "code",
   "execution_count": 6,
   "metadata": {},
   "outputs": [],
   "source": [
    "alpha_for_rk4 = [0.5, 0.5, 1.]\n",
    "beta_for_rk4 = [0.5, 0., 0.5, 0., 0., 1.]\n",
    "c_for_rk4 = [1./6., 1./3., 1./3., 1./6.]\n",
    "rk4 = RungeKuttaMethod(4, alpha_for_rk4, beta_for_rk4, c_for_rk4)"
   ]
  },
  {
   "cell_type": "code",
   "execution_count": 7,
   "metadata": {},
   "outputs": [
    {
     "name": "stdout",
     "output_type": "stream",
     "text": [
      "[0.5, 0.0, 0.5, 0.0, 0.0, 1.0]\n",
      "2   1   0.5\n",
      "3   1   0.0\n",
      "3   2   0.5\n",
      "4   1   0.0\n",
      "4   2   0.0\n",
      "4   3   1.0\n"
     ]
    }
   ],
   "source": [
    "m = 4\n",
    "print(rk4._beta_coefficients)\n",
    "for i in range(2, m + 1):\n",
    "    for j in range(1, i):\n",
    "        print(i, \" \", j, \" \", rk4.get_beta_ij(i, j))"
   ]
  },
  {
   "cell_type": "code",
   "execution_count": 8,
   "metadata": {},
   "outputs": [
    {
     "name": "stdout",
     "output_type": "stream",
     "text": [
      "[0.5, 0.5, 1.0]\n",
      "2   0.5\n",
      "3   0.5\n",
      "4   1.0\n"
     ]
    }
   ],
   "source": [
    "print(rk4._alpha_coefficients)\n",
    "for i in range(2, m + 1):\n",
    "    print(i, \" \", rk4.get_alpha_i(i))"
   ]
  },
  {
   "cell_type": "code",
   "execution_count": 9,
   "metadata": {
    "scrolled": true
   },
   "outputs": [
    {
     "name": "stdout",
     "output_type": "stream",
     "text": [
      "[0.16666666666666666, 0.3333333333333333, 0.3333333333333333, 0.16666666666666666]\n",
      "1   0.16666666666666666\n",
      "2   0.3333333333333333\n",
      "3   0.3333333333333333\n",
      "4   0.16666666666666666\n"
     ]
    }
   ],
   "source": [
    "print(rk4._c_coefficients)\n",
    "for i in range(1, m + 1):\n",
    "    print(i, \" \", rk4.get_c_i(i))"
   ]
  },
  {
   "cell_type": "code",
   "execution_count": 14,
   "metadata": {},
   "outputs": [],
   "source": [
    "x_n = [np.array([2, 4, 8]), np.array([1.88836035, 3.7767207, 7.5534414])]\n",
    "t_n = [0., 0.11487653, 1.26364188]"
   ]
  },
  {
   "cell_type": "code",
   "execution_count": 15,
   "metadata": {},
   "outputs": [
    {
     "name": "stdout",
     "output_type": "stream",
     "text": [
      "[array([-1., -2., -4.]), array([-0.97128087, -1.94256173, -3.88512347]), array([-0.97210566, -1.94421131, -3.88842262]), array([-0.94416394, -1.88832788, -3.77665575])]\n"
     ]
    }
   ],
   "source": [
    "kresult = rk4._calculate_k_coefficients(x_n[0], t_n[0], t_n[1] - t_n[0], exponential_decay)\n",
    "print(kresult)"
   ]
  },
  {
   "cell_type": "code",
   "execution_count": 17,
   "metadata": {},
   "outputs": [
    {
     "name": "stdout",
     "output_type": "stream",
     "text": [
      "[1.88836037 3.77672073 7.55344146]\n"
     ]
    }
   ],
   "source": [
    "result1 = rk4.calculate_next_step(x_n[0], t_n[0], t_n[1] - t_n[0], exponential_decay)\n",
    "print(result1)"
   ]
  },
  {
   "cell_type": "code",
   "execution_count": 16,
   "metadata": {},
   "outputs": [
    {
     "name": "stdout",
     "output_type": "stream",
     "text": [
      "[1.06414256 2.12828513 4.25657025]\n"
     ]
    }
   ],
   "source": [
    "result2 = rk4.calculate_next_step(x_n[1], t_n[1], t_n[2] - t_n[1], exponential_decay)\n",
    "print(result2)"
   ]
  },
  {
   "cell_type": "code",
   "execution_count": 15,
   "metadata": {},
   "outputs": [
    {
     "data": {
      "text/plain": [
       "[1, 2, 3, 4, 5, 6]"
      ]
     },
     "execution_count": 15,
     "metadata": {},
     "output_type": "execute_result"
    }
   ],
   "source": [
    "[1, 2, 3] + [ 4, 5, 6]"
   ]
  },
  {
   "cell_type": "code",
   "execution_count": 17,
   "metadata": {},
   "outputs": [
    {
     "data": {
      "text/plain": [
       "array([2])"
      ]
     },
     "execution_count": 17,
     "metadata": {},
     "output_type": "execute_result"
    }
   ],
   "source": [
    "np.array([2])"
   ]
  },
  {
   "cell_type": "markdown",
   "metadata": {},
   "source": [
    "# Embedded Formulas of Order 5\n",
    "\n",
    "cf. pp. 178, Table 5.2. Dormand-Prince 5(4) (DOPRI5) **Ordinary Differential Equations, Vol. 1. Nonstiff-Problems**"
   ]
  },
  {
   "cell_type": "code",
   "execution_count": 5,
   "metadata": {},
   "outputs": [
    {
     "name": "stdout",
     "output_type": "stream",
     "text": [
      "71/57600\n",
      "0\n",
      "-71/16695\n",
      "71/1920\n",
      "-17253/339200\n",
      "22/525\n",
      "-1/40\n"
     ]
    }
   ],
   "source": [
    "# print(DOPRI5Coefficients.b_coefficients.get_ith_element(1))\n",
    "deltas = []\n",
    "for i in range(1, 8):\n",
    "    delta = \\\n",
    "        DOPRI5Coefficients.b_coefficients.get_ith_element(i) - \\\n",
    "            DOPRI5Coefficients.bstar_coefficients.get_ith_element(i)\n",
    "    deltas.append(delta)\n",
    "    if (type(delta) != int):\n",
    "        print(delta.simplify())\n",
    "    else:\n",
    "        print(delta)"
   ]
  },
  {
   "cell_type": "markdown",
   "metadata": {},
   "source": [
    "# Coefficients for dense output\n",
    "\n",
    "cf. https://math.stackexchange.com/questions/2947231/how-can-i-derive-the-dense-output-of-ode45"
   ]
  },
  {
   "cell_type": "code",
   "execution_count": 7,
   "metadata": {},
   "outputs": [],
   "source": [
    "bs = DOPRI5Coefficients.b_coefficients\n",
    "ds = DOPRI5Coefficients.dense_output_coefficients\n",
    "cstars = DOPRI5Coefficients.cstar_coefficients"
   ]
  },
  {
   "cell_type": "code",
   "execution_count": 11,
   "metadata": {},
   "outputs": [
    {
     "data": {
      "text/latex": [
       "$\\displaystyle - \\frac{12715105075}{11282082432}$"
      ],
      "text/plain": [
       "-12715105075/11282082432"
      ]
     },
     "execution_count": 11,
     "metadata": {},
     "output_type": "execute_result"
    }
   ],
   "source": [
    "-2 * (1 + 4 * bs.get_ith_element(1) - 4 * cstars.get_ith_element(1))"
   ]
  },
  {
   "cell_type": "code",
   "execution_count": null,
   "metadata": {},
   "outputs": [],
   "source": []
  },
  {
   "cell_type": "markdown",
   "metadata": {},
   "source": [
    "# Hermite Interpolation"
   ]
  },
  {
   "cell_type": "code",
   "execution_count": 9,
   "metadata": {},
   "outputs": [],
   "source": [
    "from sympy import Matrix, Symbol, symbols, pprint"
   ]
  },
  {
   "cell_type": "code",
   "execution_count": 7,
   "metadata": {},
   "outputs": [],
   "source": [
    "theta, y_n, y_np1, f_n, f_np1, h = symbols(\"theta y_n y_np1 f_n f_np1 h\")"
   ]
  },
  {
   "cell_type": "markdown",
   "metadata": {},
   "source": [
    "cf. pp. 916 17.2.2 Dense Output, Ch. 17. Integration of Ordinary Differential Equations of **Numerical Recipes**, 3rd Ed., and  "
   ]
  },
  {
   "cell_type": "code",
   "execution_count": 14,
   "metadata": {},
   "outputs": [
    {
     "name": "stdout",
     "output_type": "stream",
     "text": [
      "θ⋅yₙₚ₁ + θ⋅(θ - 1)⋅(fₙ⋅h⋅(θ - 1) + fₙₚ₁⋅h⋅θ + (1 - 2⋅θ)⋅(-yₙ + yₙₚ₁)) + yₙ⋅(1 \n",
      "- θ)\n"
     ]
    }
   ],
   "source": [
    "hermite_interpolation = (1 - theta) * y_n + theta * y_np1 + \\\n",
    "  theta * (theta - 1) * ((1 - 2 * theta) * (y_np1 - y_n) + (theta - 1) * h *f_n + theta * h * f_np1)\n",
    "pprint(hermite_interpolation)"
   ]
  },
  {
   "cell_type": "code",
   "execution_count": 17,
   "metadata": {},
   "outputs": [
    {
     "name": "stdout",
     "output_type": "stream",
     "text": [
      "      3           2                    3           2      3         3         \n",
      "fₙ⋅h⋅θ  - 2⋅fₙ⋅h⋅θ  + fₙ⋅h⋅θ + fₙₚ₁⋅h⋅θ  - fₙₚ₁⋅h⋅θ  + 2⋅θ ⋅yₙ - 2⋅θ ⋅yₙₚ₁ - 3\n",
      "\n",
      "  2         2          \n",
      "⋅θ ⋅yₙ + 3⋅θ ⋅yₙₚ₁ + yₙ\n",
      "   3      2    \n",
      "2⋅θ  - 3⋅θ  + 1\n",
      "     3      2\n",
      "- 2⋅θ  + 3⋅θ \n",
      "   3        2      \n",
      "h⋅θ  - 2⋅h⋅θ  + h⋅θ\n",
      "   3      2\n",
      "h⋅θ  - h⋅θ \n"
     ]
    }
   ],
   "source": [
    "pprint(hermite_interpolation.expand())\n",
    "pprint(sympy.collect(hermite_interpolation.expand(), y_n, evaluate=False)[y_n])\n",
    "pprint(sympy.collect(hermite_interpolation.expand(), y_np1, evaluate=False)[y_np1])\n",
    "pprint(sympy.collect(hermite_interpolation.expand(), f_n, evaluate=False)[f_n])\n",
    "pprint(sympy.collect(hermite_interpolation.expand(), f_np1, evaluate=False)[f_np1])"
   ]
  },
  {
   "cell_type": "code",
   "execution_count": null,
   "metadata": {},
   "outputs": [],
   "source": []
  }
 ],
 "metadata": {
  "interpreter": {
   "hash": "de09550c5c0a2982aae1adbade0398a53625bd0b468c81e2a888cf57646e06b3"
  },
  "kernelspec": {
   "display_name": "Python 3 (ipykernel)",
   "language": "python",
   "name": "python3"
  },
  "language_info": {
   "codemirror_mode": {
    "name": "ipython",
    "version": 3
   },
   "file_extension": ".py",
   "mimetype": "text/x-python",
   "name": "python",
   "nbconvert_exporter": "python",
   "pygments_lexer": "ipython3",
   "version": "3.8.10"
  }
 },
 "nbformat": 4,
 "nbformat_minor": 2
}
