{
 "cells": [
  {
   "cell_type": "markdown",
   "metadata": {},
   "source": [
    "# Physique \n",
    "### Mini Table of Contents\n",
    "\n",
    "* Create or refresh data files\n",
    "* Using Physique from a working directory not containing Physique itself\n",
    "* NIST Fundamental Constants\n",
    "* NIST Official Conversions (to metric) \n",
    "* Webscraping example: JPL Solar System Dynamics (JPL SSD) - Planets and Pluto"
   ]
  },
  {
   "cell_type": "markdown",
   "metadata": {},
   "source": [
    "## Create or refresh data files\n",
    "\n",
    "Create or refresh data files (if using Physique for the first time, do this first!) by running this script **in the** root directory of the project (i.e. `./Physique/`):\n",
    "\n",
    "```\n",
    "python3 ./Scripts/Refresh.py\n",
    "```\n",
    "For instance, you would leave this current directory, change to the directory above (or wherever it really is) for the root directory of the project, and type the above command in the command line.\n",
    "\n",
    "Alternatively, do it in Python here:"
   ]
  },
  {
   "cell_type": "code",
   "execution_count": 1,
   "metadata": {},
   "outputs": [
    {
     "name": "stdout",
     "output_type": "stream",
     "text": [
      "/home/topolo/PropD/Propulsion\n"
     ]
    }
   ],
   "source": [
    "import os\n",
    "print(os.getcwd())"
   ]
  },
  {
   "cell_type": "code",
   "execution_count": 2,
   "metadata": {},
   "outputs": [],
   "source": [
    "os.chdir(os.getcwd() + \"/Physique/\") # change current working directory"
   ]
  },
  {
   "cell_type": "code",
   "execution_count": 3,
   "metadata": {},
   "outputs": [
    {
     "name": "stdout",
     "output_type": "stream",
     "text": [
      "/home/topolo/PropD/Propulsion/Physique\n"
     ]
    }
   ],
   "source": [
    "print(os.getcwd())"
   ]
  },
  {
   "cell_type": "code",
   "execution_count": 4,
   "metadata": {},
   "outputs": [],
   "source": [
    "%run -i ./Scripts/Refresh.py # this is the main, important, command to run"
   ]
  },
  {
   "cell_type": "code",
   "execution_count": 5,
   "metadata": {},
   "outputs": [],
   "source": [
    "import Physique"
   ]
  },
  {
   "cell_type": "code",
   "execution_count": 6,
   "metadata": {},
   "outputs": [],
   "source": [
    "import sys"
   ]
  },
  {
   "cell_type": "code",
   "execution_count": 7,
   "metadata": {},
   "outputs": [
    {
     "data": {
      "text/plain": [
       "'/usr/bin/python3'"
      ]
     },
     "execution_count": 7,
     "metadata": {},
     "output_type": "execute_result"
    }
   ],
   "source": [
    "sys.executable # Check which Python you are running in case you have ImportError's"
   ]
  },
  {
   "cell_type": "code",
   "execution_count": 8,
   "metadata": {},
   "outputs": [
    {
     "name": "stdout",
     "output_type": "stream",
     "text": [
      "['BraeunigStandardAtmosphere', 'Conversions', 'FahrenheitCelsiusConversion', 'FundamentalPhysicalConstants', 'KelvinCelsiusConversion', 'Physique', 'PlanetaryFacts', 'Source', 'T_C', 'T_F', 'T_K', '__builtins__', '__cached__', '__doc__', '__file__', '__loader__', '__name__', '__package__', '__path__', '__spec__']\n"
     ]
    }
   ],
   "source": [
    "print(dir(Physique))"
   ]
  },
  {
   "cell_type": "markdown",
   "metadata": {},
   "source": [
    "# NIST Fundamental Constants"
   ]
  },
  {
   "cell_type": "code",
   "execution_count": 8,
   "metadata": {},
   "outputs": [],
   "source": [
    "from Physique import FundamentalPhysicalConstants as FPC"
   ]
  },
  {
   "cell_type": "code",
   "execution_count": 11,
   "metadata": {},
   "outputs": [
    {
     "name": "stdout",
     "output_type": "stream",
     "text": [
      "Index(['Quantity', 'Value', 'Uncertainty', 'Unit'], dtype='object')\n"
     ]
    }
   ],
   "source": [
    "print(FPC.columns)"
   ]
  },
  {
   "cell_type": "code",
   "execution_count": 12,
   "metadata": {},
   "outputs": [
    {
     "name": "stdout",
     "output_type": "stream",
     "text": [
      "                                          Quantity              Value  \\\n",
      "0                 {220} lattice spacing of silicon    1.920155714E-10   \n",
      "1               alpha particle-electron mass ratio      7294.29954136   \n",
      "2                              alpha particle mass    6.644657230E-27   \n",
      "3            alpha particle mass energy equivalent    5.971920097E-10   \n",
      "4     alpha particle mass energy equivalent in MeV        3727.379378   \n",
      "5                         alpha particle mass in u     4.001506179127   \n",
      "6                        alpha particle molar mass  0.004001506179127   \n",
      "7                 alpha particle-proton mass ratio      3.97259968907   \n",
      "8                                    Angstrom star     1.00001495E-10   \n",
      "9                             atomic mass constant    1.660539040E-27   \n",
      "10          atomic mass constant energy equivalent    1.492418062E-10   \n",
      "11   atomic mass constant energy equivalent in MeV        931.4940954   \n",
      "12     atomic mass unit-electron volt relationship        931494095.4   \n",
      "13           atomic mass unit-hartree relationship       34231776.902   \n",
      "14             atomic mass unit-hertz relationship   2.2523427206E+23   \n",
      "15     atomic mass unit-inverse meter relationship   7.5130066166E+14   \n",
      "16             atomic mass unit-joule relationship    1.492418062E-10   \n",
      "17            atomic mass unit-kelvin relationship     1.08095438E+13   \n",
      "18          atomic mass unit-kilogram relationship    1.660539040E-27   \n",
      "19          atomic unit of 1st hyperpolarizability    3.206361329E-53   \n",
      "20          atomic unit of 2nd hyperpolarizability    6.235380085E-65   \n",
      "21                           atomic unit of action    1.054571800E-34   \n",
      "22                           atomic unit of charge   1.6021766208E-19   \n",
      "23                   atomic unit of charge density   1.0812023770E+12   \n",
      "24                          atomic unit of current     0.006623618183   \n",
      "25             atomic unit of electric dipole mom.    8.478353552E-30   \n",
      "26                   atomic unit of electric field    5.142206707E+11   \n",
      "27          atomic unit of electric field gradient    9.717362356E+21   \n",
      "28          atomic unit of electric polarizability   1.6487772731E-41   \n",
      "29               atomic unit of electric potential        27.21138602   \n",
      "..                                             ...                ...   \n",
      "305                        standard-state pressure             100000   \n",
      "306                      Stefan-Boltzmann constant        5.670367E-8   \n",
      "307                         tau Compton wavelength        6.97787E-16   \n",
      "308               tau Compton wavelength over 2 pi        1.11056E-16   \n",
      "309                        tau-electron mass ratio            3477.15   \n",
      "310                                       tau mass        3.16747E-27   \n",
      "311                     tau mass energy equivalent        2.84678E-10   \n",
      "312              tau mass energy equivalent in MeV            1776.82   \n",
      "313                                  tau mass in u            1.90749   \n",
      "314                                 tau molar mass         0.00190749   \n",
      "315                            tau-muon mass ratio            16.8167   \n",
      "316                         tau-neutron mass ratio            1.89111   \n",
      "317                          tau-proton mass ratio            1.89372   \n",
      "318                          Thomson cross section   6.6524587158E-29   \n",
      "319                     triton-electron mass ratio      5496.92153588   \n",
      "320                                triton g factor        5.957924920   \n",
      "321                               triton mag. mom.    1.504609503E-26   \n",
      "322        triton mag. mom. to Bohr magneton ratio    0.0016223936616   \n",
      "323     triton mag. mom. to nuclear magneton ratio        2.978962460   \n",
      "324                                    triton mass    5.007356665E-27   \n",
      "325                  triton mass energy equivalent    4.500387735E-10   \n",
      "326           triton mass energy equivalent in MeV        2808.921112   \n",
      "327                               triton mass in u      3.01550071632   \n",
      "328                              triton molar mass   0.00301550071632   \n",
      "329                       triton-proton mass ratio      2.99371703348   \n",
      "330                       unified atomic mass unit    1.660539040E-27   \n",
      "331                          von Klitzing constant      25812.8074555   \n",
      "332                              weak mixing angle             0.2223   \n",
      "333       Wien frequency displacement law constant      5.8789238E+10   \n",
      "334      Wien wavelength displacement law constant       0.0028977729   \n",
      "\n",
      "    Uncertainty          Unit  \n",
      "0       3.2E-18             m  \n",
      "1        2.4E-7                \n",
      "2       8.2E-35            kg  \n",
      "3       7.3E-18             J  \n",
      "4      0.000023           MeV  \n",
      "5       6.3E-11             u  \n",
      "6       6.3E-14     kg mol^-1  \n",
      "7       3.6E-10                \n",
      "8       9.0E-17             m  \n",
      "9       2.0E-35            kg  \n",
      "10      1.8E-18             J  \n",
      "11    0.0000057           MeV  \n",
      "12          5.7            eV  \n",
      "13        0.016           E_h  \n",
      "14      1.0E+14            Hz  \n",
      "15       3.4E+5          m^-1  \n",
      "16      1.8E-18             J  \n",
      "17       6.2E+6             K  \n",
      "18      2.0E-35            kg  \n",
      "19      2.0E-61  C^3 m^3 J^-2  \n",
      "20      7.7E-73  C^4 m^4 J^-3  \n",
      "21      1.3E-42           J s  \n",
      "22      9.8E-28             C  \n",
      "23       6.7E+3        C m^-3  \n",
      "24      4.1E-11             A  \n",
      "25      5.2E-38           C m  \n",
      "26       3.2E+3        V m^-1  \n",
      "27      6.0E+13        V m^-2  \n",
      "28      1.1E-50  C^2 m^2 J^-1  \n",
      "29       1.7E-7             V  \n",
      "..          ...           ...  \n",
      "305        None            Pa  \n",
      "306     1.3E-13   W m^-2 K^-4  \n",
      "307     6.3E-20             m  \n",
      "308     1.0E-20             m  \n",
      "309        0.31                \n",
      "310     2.9E-31            kg  \n",
      "311     2.6E-14             J  \n",
      "312        0.16           MeV  \n",
      "313     0.00017             u  \n",
      "314      1.7E-7     kg mol^-1  \n",
      "315      0.0015                \n",
      "316     0.00017                \n",
      "317     0.00017                \n",
      "318     9.1E-38           m^2  \n",
      "319      2.6E-7                \n",
      "320      2.8E-8                \n",
      "321     1.2E-34        J T^-1  \n",
      "322     7.6E-12                \n",
      "323      1.4E-8                \n",
      "324     6.2E-35            kg  \n",
      "325     5.5E-18             J  \n",
      "326    0.000017           MeV  \n",
      "327     1.1E-10             u  \n",
      "328     1.1E-13     kg mol^-1  \n",
      "329     2.2E-10                \n",
      "330     2.0E-35            kg  \n",
      "331   0.0000059           ohm  \n",
      "332      0.0021                \n",
      "333      3.4E+4       Hz K^-1  \n",
      "334      1.7E-9           m K  \n",
      "\n",
      "[335 rows x 4 columns]\n"
     ]
    }
   ],
   "source": [
    "print(FPC)"
   ]
  },
  {
   "cell_type": "markdown",
   "metadata": {},
   "source": [
    "Find a *Fundamental Constant* you are interested in using the usual *panda* modules"
   ]
  },
  {
   "cell_type": "code",
   "execution_count": 13,
   "metadata": {},
   "outputs": [
    {
     "name": "stdout",
     "output_type": "stream",
     "text": [
      "                             Quantity    Value Uncertainty    Unit\n",
      "303  standard acceleration of gravity  9.80665        None  m s^-2\n"
     ]
    }
   ],
   "source": [
    "g_0pd = FPC[FPC[\"Quantity\"].str.contains(\"gravity\") ] \n",
    "# standard acceleration of gravity as a panda DataFrame\n",
    "print(g_0pd)"
   ]
  },
  {
   "cell_type": "code",
   "execution_count": 18,
   "metadata": {},
   "outputs": [
    {
     "name": "stdout",
     "output_type": "stream",
     "text": [
      "<class 'decimal.Decimal'>\n",
      "9.80665\n"
     ]
    }
   ],
   "source": [
    "g_0 = g_0pd[\"Value\"].values[0]\n",
    "print(type(g_0))\n",
    "print(g_0)"
   ]
  },
  {
   "cell_type": "code",
   "execution_count": 21,
   "metadata": {},
   "outputs": [
    {
     "name": "stdout",
     "output_type": "stream",
     "text": [
      "303    standard acceleration of gravity\n",
      "Name: Quantity, dtype: object\n",
      "9.80665\n",
      "m s^-2\n"
     ]
    }
   ],
   "source": [
    "# access the values you're interested in \n",
    "print(g_0pd.Quantity)\n",
    "print(g_0pd.Value.get_values()[0]) \n",
    "print(g_0pd.Unit.get_values()[0])"
   ]
  },
  {
   "cell_type": "code",
   "execution_count": 22,
   "metadata": {},
   "outputs": [
    {
     "data": {
      "text/plain": [
       "Quantity       Boltzmann constant\n",
       "Value              1.38064852E-23\n",
       "Uncertainty               7.9E-30\n",
       "Unit                       J K^-1\n",
       "Name: 49, dtype: object"
      ]
     },
     "execution_count": 22,
     "metadata": {},
     "output_type": "execute_result"
    }
   ],
   "source": [
    "# you can also grab just the 1 entry from this DataFrame using the .loc module\n",
    "FPC[FPC[\"Quantity\"].str.contains(\"Boltzmann\")].loc[49,:]"
   ]
  },
  {
   "cell_type": "code",
   "execution_count": 23,
   "metadata": {},
   "outputs": [
    {
     "data": {
      "text/plain": [
       "Quantity       standard acceleration of gravity\n",
       "Value                                   9.80665\n",
       "Uncertainty                                None\n",
       "Unit                                     m s^-2\n",
       "Name: 303, dtype: object"
      ]
     },
     "execution_count": 23,
     "metadata": {},
     "output_type": "execute_result"
    }
   ],
   "source": [
    "g_0pd.loc[303,:]"
   ]
  },
  {
   "cell_type": "markdown",
   "metadata": {},
   "source": [
    "# NIST Official Conversions (to metric)"
   ]
  },
  {
   "cell_type": "markdown",
   "metadata": {},
   "source": [
    "This is the pandas DataFrame containing all the NIST Official Conversions to SI.  "
   ]
  },
  {
   "cell_type": "code",
   "execution_count": 24,
   "metadata": {},
   "outputs": [],
   "source": [
    "from Physique import Conversions"
   ]
  },
  {
   "cell_type": "code",
   "execution_count": 25,
   "metadata": {},
   "outputs": [
    {
     "name": "stdout",
     "output_type": "stream",
     "text": [
      "Index(['Toconvertfrom', 'to', 'Multiplyby'], dtype='object')\n"
     ]
    }
   ],
   "source": [
    "print(Conversions.columns)"
   ]
  },
  {
   "cell_type": "markdown",
   "metadata": {},
   "source": [
    "From the list of columns, search for the quantity you desired by trying out different search terms: e.g. I'm reading Huzel and Huang's **Modern Engineering for Design of Liquid-Propellant Rocket Engines** and I want to know how to convert from\n",
    "* lb (pound or pound-force) for thrust into force in Newton (N)\n",
    "* psia (pounds per square inch absolute) for (chamber) pressure into pressure in Pascal (Pa)\n",
    "\n",
    "We can try to look up the U.S. or Imperial units from the `Toconvertfrom` column.  "
   ]
  },
  {
   "cell_type": "code",
   "execution_count": 27,
   "metadata": {},
   "outputs": [
    {
     "data": {
      "text/html": [
       "<div>\n",
       "<style scoped>\n",
       "    .dataframe tbody tr th:only-of-type {\n",
       "        vertical-align: middle;\n",
       "    }\n",
       "\n",
       "    .dataframe tbody tr th {\n",
       "        vertical-align: top;\n",
       "    }\n",
       "\n",
       "    .dataframe thead th {\n",
       "        text-align: right;\n",
       "    }\n",
       "</style>\n",
       "<table border=\"1\" class=\"dataframe\">\n",
       "  <thead>\n",
       "    <tr style=\"text-align: right;\">\n",
       "      <th></th>\n",
       "      <th>Toconvertfrom</th>\n",
       "      <th>to</th>\n",
       "      <th>Multiplyby</th>\n",
       "    </tr>\n",
       "  </thead>\n",
       "  <tbody>\n",
       "    <tr>\n",
       "      <th>175</th>\n",
       "      <td>foot pound-force (ft · lbf)</td>\n",
       "      <td>joule (J)</td>\n",
       "      <td>1.355818</td>\n",
       "    </tr>\n",
       "    <tr>\n",
       "      <th>176</th>\n",
       "      <td>foot pound-force per hour (ft · lbf/h)</td>\n",
       "      <td>watt (W)</td>\n",
       "      <td>0.0003766161</td>\n",
       "    </tr>\n",
       "    <tr>\n",
       "      <th>177</th>\n",
       "      <td>foot pound-force per minute (ft · lbf/min)</td>\n",
       "      <td>watt (W)</td>\n",
       "      <td>0.02259697</td>\n",
       "    </tr>\n",
       "    <tr>\n",
       "      <th>178</th>\n",
       "      <td>foot pound-force per second (ft · lbf/s)</td>\n",
       "      <td>watt (W)</td>\n",
       "      <td>1.355818</td>\n",
       "    </tr>\n",
       "    <tr>\n",
       "      <th>340</th>\n",
       "      <td>pound-force (lbf) 23</td>\n",
       "      <td>newton (N)</td>\n",
       "      <td>4.448222</td>\n",
       "    </tr>\n",
       "    <tr>\n",
       "      <th>341</th>\n",
       "      <td>pound-force foot (lbf · ft)</td>\n",
       "      <td>newton meter (N · m)</td>\n",
       "      <td>1.355818</td>\n",
       "    </tr>\n",
       "    <tr>\n",
       "      <th>342</th>\n",
       "      <td>pound-force foot per inch (lbf · ft/in)</td>\n",
       "      <td>newton meter per meter (N · m/m)</td>\n",
       "      <td>53.37866</td>\n",
       "    </tr>\n",
       "    <tr>\n",
       "      <th>343</th>\n",
       "      <td>pound-force inch (lbf · in)</td>\n",
       "      <td>newton meter (N · m)</td>\n",
       "      <td>0.1129848</td>\n",
       "    </tr>\n",
       "    <tr>\n",
       "      <th>344</th>\n",
       "      <td>pound-force inch per inch (lbf · in/in)</td>\n",
       "      <td>newton meter per meter (N · m/m)</td>\n",
       "      <td>4.448222</td>\n",
       "    </tr>\n",
       "    <tr>\n",
       "      <th>345</th>\n",
       "      <td>pound-force per foot (lbf/ft)</td>\n",
       "      <td>newton per meter (N/m)</td>\n",
       "      <td>14.59390</td>\n",
       "    </tr>\n",
       "    <tr>\n",
       "      <th>346</th>\n",
       "      <td>pound-force per inch (lbf/in)</td>\n",
       "      <td>newton per meter (N/m)</td>\n",
       "      <td>175.1268</td>\n",
       "    </tr>\n",
       "    <tr>\n",
       "      <th>347</th>\n",
       "      <td>pound-force per pound (lbf/lb) (thrust to mass...</td>\n",
       "      <td>newton per kilogram (N/kg)</td>\n",
       "      <td>9.80665</td>\n",
       "    </tr>\n",
       "    <tr>\n",
       "      <th>348</th>\n",
       "      <td>pound-force per square foot (lbf/ft2)</td>\n",
       "      <td>pascal (Pa)</td>\n",
       "      <td>47.88026</td>\n",
       "    </tr>\n",
       "    <tr>\n",
       "      <th>349</th>\n",
       "      <td>pound-force per square inch (psi) (lbf/in2)</td>\n",
       "      <td>pascal (Pa)</td>\n",
       "      <td>6894.757</td>\n",
       "    </tr>\n",
       "    <tr>\n",
       "      <th>350</th>\n",
       "      <td>pound-force per square inch (psi) (lbf/in2)</td>\n",
       "      <td>kilopascal (kPa)</td>\n",
       "      <td>6.894757</td>\n",
       "    </tr>\n",
       "    <tr>\n",
       "      <th>351</th>\n",
       "      <td>pound-force second per square foot (lbf · s/ft2)</td>\n",
       "      <td>pascal second (Pa · s)</td>\n",
       "      <td>47.88026</td>\n",
       "    </tr>\n",
       "    <tr>\n",
       "      <th>352</th>\n",
       "      <td>pound-force second per square inch (lbf · s/in2)</td>\n",
       "      <td>pascal second (Pa · s)</td>\n",
       "      <td>6894.757</td>\n",
       "    </tr>\n",
       "    <tr>\n",
       "      <th>372</th>\n",
       "      <td>psi (pound-force per square inch) (lbf/in2)</td>\n",
       "      <td>pascal (Pa)</td>\n",
       "      <td>6894.757</td>\n",
       "    </tr>\n",
       "    <tr>\n",
       "      <th>373</th>\n",
       "      <td>psi (pound-force per square inch) (lbf/in2)</td>\n",
       "      <td>kilopascal (kPa)</td>\n",
       "      <td>6.894757</td>\n",
       "    </tr>\n",
       "  </tbody>\n",
       "</table>\n",
       "</div>"
      ],
      "text/plain": [
       "                                         Toconvertfrom  \\\n",
       "175                        foot pound-force (ft · lbf)   \n",
       "176             foot pound-force per hour (ft · lbf/h)   \n",
       "177         foot pound-force per minute (ft · lbf/min)   \n",
       "178           foot pound-force per second (ft · lbf/s)   \n",
       "340                               pound-force (lbf) 23   \n",
       "341                        pound-force foot (lbf · ft)   \n",
       "342            pound-force foot per inch (lbf · ft/in)   \n",
       "343                        pound-force inch (lbf · in)   \n",
       "344            pound-force inch per inch (lbf · in/in)   \n",
       "345                      pound-force per foot (lbf/ft)   \n",
       "346                      pound-force per inch (lbf/in)   \n",
       "347  pound-force per pound (lbf/lb) (thrust to mass...   \n",
       "348              pound-force per square foot (lbf/ft2)   \n",
       "349        pound-force per square inch (psi) (lbf/in2)   \n",
       "350        pound-force per square inch (psi) (lbf/in2)   \n",
       "351   pound-force second per square foot (lbf · s/ft2)   \n",
       "352   pound-force second per square inch (lbf · s/in2)   \n",
       "372        psi (pound-force per square inch) (lbf/in2)   \n",
       "373        psi (pound-force per square inch) (lbf/in2)   \n",
       "\n",
       "                                   to    Multiplyby  \n",
       "175                         joule (J)      1.355818  \n",
       "176                          watt (W)  0.0003766161  \n",
       "177                          watt (W)    0.02259697  \n",
       "178                          watt (W)      1.355818  \n",
       "340                        newton (N)      4.448222  \n",
       "341              newton meter (N · m)      1.355818  \n",
       "342  newton meter per meter (N · m/m)      53.37866  \n",
       "343              newton meter (N · m)     0.1129848  \n",
       "344  newton meter per meter (N · m/m)      4.448222  \n",
       "345            newton per meter (N/m)      14.59390  \n",
       "346            newton per meter (N/m)      175.1268  \n",
       "347        newton per kilogram (N/kg)       9.80665  \n",
       "348                       pascal (Pa)      47.88026  \n",
       "349                       pascal (Pa)      6894.757  \n",
       "350                  kilopascal (kPa)      6.894757  \n",
       "351            pascal second (Pa · s)      47.88026  \n",
       "352            pascal second (Pa · s)      6894.757  \n",
       "372                       pascal (Pa)      6894.757  \n",
       "373                  kilopascal (kPa)      6.894757  "
      ]
     },
     "execution_count": 27,
     "metadata": {},
     "output_type": "execute_result"
    }
   ],
   "source": [
    "Conversions[Conversions['Toconvertfrom'].str.contains(\"pound-force \")]"
   ]
  },
  {
   "cell_type": "markdown",
   "metadata": {},
   "source": [
    "Or we can look up the SI unit we want to convert to."
   ]
  },
  {
   "cell_type": "code",
   "execution_count": 29,
   "metadata": {},
   "outputs": [
    {
     "data": {
      "text/html": [
       "<div>\n",
       "<style scoped>\n",
       "    .dataframe tbody tr th:only-of-type {\n",
       "        vertical-align: middle;\n",
       "    }\n",
       "\n",
       "    .dataframe tbody tr th {\n",
       "        vertical-align: top;\n",
       "    }\n",
       "\n",
       "    .dataframe thead th {\n",
       "        text-align: right;\n",
       "    }\n",
       "</style>\n",
       "<table border=\"1\" class=\"dataframe\">\n",
       "  <thead>\n",
       "    <tr style=\"text-align: right;\">\n",
       "      <th></th>\n",
       "      <th>Toconvertfrom</th>\n",
       "      <th>to</th>\n",
       "      <th>Multiplyby</th>\n",
       "    </tr>\n",
       "  </thead>\n",
       "  <tbody>\n",
       "    <tr>\n",
       "      <th>137</th>\n",
       "      <td>dyne (dyn)</td>\n",
       "      <td>newton (N)</td>\n",
       "      <td>0.000010</td>\n",
       "    </tr>\n",
       "    <tr>\n",
       "      <th>138</th>\n",
       "      <td>dyne centimeter (dyn · cm)</td>\n",
       "      <td>newton meter (N · m)</td>\n",
       "      <td>1.0E-7</td>\n",
       "    </tr>\n",
       "    <tr>\n",
       "      <th>238</th>\n",
       "      <td>kilogram-force (kgf)</td>\n",
       "      <td>newton (N)</td>\n",
       "      <td>9.80665</td>\n",
       "    </tr>\n",
       "    <tr>\n",
       "      <th>239</th>\n",
       "      <td>kilogram-force meter (kgf · m)</td>\n",
       "      <td>newton meter (N · m)</td>\n",
       "      <td>9.80665</td>\n",
       "    </tr>\n",
       "    <tr>\n",
       "      <th>247</th>\n",
       "      <td>kilopond (kilogram-force) (kp)</td>\n",
       "      <td>newton (N)</td>\n",
       "      <td>9.80665</td>\n",
       "    </tr>\n",
       "    <tr>\n",
       "      <th>250</th>\n",
       "      <td>kip (1 kip= 1000 lbf)</td>\n",
       "      <td>newton (N)</td>\n",
       "      <td>4448.222</td>\n",
       "    </tr>\n",
       "    <tr>\n",
       "      <th>251</th>\n",
       "      <td>kip (1 kip= 1000 lbf)</td>\n",
       "      <td>kilonewton (kN)</td>\n",
       "      <td>4.448222</td>\n",
       "    </tr>\n",
       "    <tr>\n",
       "      <th>300</th>\n",
       "      <td>ounce (avoirdupois)-force (ozf)</td>\n",
       "      <td>newton (N)</td>\n",
       "      <td>0.2780139</td>\n",
       "    </tr>\n",
       "    <tr>\n",
       "      <th>301</th>\n",
       "      <td>ounce (avoirdupois)-force inch (ozf · in)</td>\n",
       "      <td>newton meter (N · m)</td>\n",
       "      <td>0.007061552</td>\n",
       "    </tr>\n",
       "    <tr>\n",
       "      <th>302</th>\n",
       "      <td>ounce (avoirdupois)-force inch (ozf · in)</td>\n",
       "      <td>millinewton meter (mN · m)</td>\n",
       "      <td>7.061552</td>\n",
       "    </tr>\n",
       "    <tr>\n",
       "      <th>336</th>\n",
       "      <td>poundal</td>\n",
       "      <td>newton (N)</td>\n",
       "      <td>0.1382550</td>\n",
       "    </tr>\n",
       "    <tr>\n",
       "      <th>340</th>\n",
       "      <td>pound-force (lbf) 23</td>\n",
       "      <td>newton (N)</td>\n",
       "      <td>4.448222</td>\n",
       "    </tr>\n",
       "    <tr>\n",
       "      <th>341</th>\n",
       "      <td>pound-force foot (lbf · ft)</td>\n",
       "      <td>newton meter (N · m)</td>\n",
       "      <td>1.355818</td>\n",
       "    </tr>\n",
       "    <tr>\n",
       "      <th>342</th>\n",
       "      <td>pound-force foot per inch (lbf · ft/in)</td>\n",
       "      <td>newton meter per meter (N · m/m)</td>\n",
       "      <td>53.37866</td>\n",
       "    </tr>\n",
       "    <tr>\n",
       "      <th>343</th>\n",
       "      <td>pound-force inch (lbf · in)</td>\n",
       "      <td>newton meter (N · m)</td>\n",
       "      <td>0.1129848</td>\n",
       "    </tr>\n",
       "    <tr>\n",
       "      <th>344</th>\n",
       "      <td>pound-force inch per inch (lbf · in/in)</td>\n",
       "      <td>newton meter per meter (N · m/m)</td>\n",
       "      <td>4.448222</td>\n",
       "    </tr>\n",
       "    <tr>\n",
       "      <th>345</th>\n",
       "      <td>pound-force per foot (lbf/ft)</td>\n",
       "      <td>newton per meter (N/m)</td>\n",
       "      <td>14.59390</td>\n",
       "    </tr>\n",
       "    <tr>\n",
       "      <th>346</th>\n",
       "      <td>pound-force per inch (lbf/in)</td>\n",
       "      <td>newton per meter (N/m)</td>\n",
       "      <td>175.1268</td>\n",
       "    </tr>\n",
       "    <tr>\n",
       "      <th>347</th>\n",
       "      <td>pound-force per pound (lbf/lb) (thrust to mass...</td>\n",
       "      <td>newton per kilogram (N/kg)</td>\n",
       "      <td>9.80665</td>\n",
       "    </tr>\n",
       "    <tr>\n",
       "      <th>423</th>\n",
       "      <td>ton-force (2000 lbf)</td>\n",
       "      <td>newton (N)</td>\n",
       "      <td>8896.443</td>\n",
       "    </tr>\n",
       "    <tr>\n",
       "      <th>424</th>\n",
       "      <td>ton-force (2000 lbf)</td>\n",
       "      <td>kilonewton (kN)</td>\n",
       "      <td>8.896443</td>\n",
       "    </tr>\n",
       "  </tbody>\n",
       "</table>\n",
       "</div>"
      ],
      "text/plain": [
       "                                         Toconvertfrom  \\\n",
       "137                                         dyne (dyn)   \n",
       "138                         dyne centimeter (dyn · cm)   \n",
       "238                               kilogram-force (kgf)   \n",
       "239                     kilogram-force meter (kgf · m)   \n",
       "247                     kilopond (kilogram-force) (kp)   \n",
       "250                              kip (1 kip= 1000 lbf)   \n",
       "251                              kip (1 kip= 1000 lbf)   \n",
       "300                    ounce (avoirdupois)-force (ozf)   \n",
       "301          ounce (avoirdupois)-force inch (ozf · in)   \n",
       "302          ounce (avoirdupois)-force inch (ozf · in)   \n",
       "336                                            poundal   \n",
       "340                               pound-force (lbf) 23   \n",
       "341                        pound-force foot (lbf · ft)   \n",
       "342            pound-force foot per inch (lbf · ft/in)   \n",
       "343                        pound-force inch (lbf · in)   \n",
       "344            pound-force inch per inch (lbf · in/in)   \n",
       "345                      pound-force per foot (lbf/ft)   \n",
       "346                      pound-force per inch (lbf/in)   \n",
       "347  pound-force per pound (lbf/lb) (thrust to mass...   \n",
       "423                               ton-force (2000 lbf)   \n",
       "424                               ton-force (2000 lbf)   \n",
       "\n",
       "                                   to   Multiplyby  \n",
       "137                        newton (N)     0.000010  \n",
       "138              newton meter (N · m)       1.0E-7  \n",
       "238                        newton (N)      9.80665  \n",
       "239              newton meter (N · m)      9.80665  \n",
       "247                        newton (N)      9.80665  \n",
       "250                        newton (N)     4448.222  \n",
       "251                   kilonewton (kN)     4.448222  \n",
       "300                        newton (N)    0.2780139  \n",
       "301              newton meter (N · m)  0.007061552  \n",
       "302        millinewton meter (mN · m)     7.061552  \n",
       "336                        newton (N)    0.1382550  \n",
       "340                        newton (N)     4.448222  \n",
       "341              newton meter (N · m)     1.355818  \n",
       "342  newton meter per meter (N · m/m)     53.37866  \n",
       "343              newton meter (N · m)    0.1129848  \n",
       "344  newton meter per meter (N · m/m)     4.448222  \n",
       "345            newton per meter (N/m)     14.59390  \n",
       "346            newton per meter (N/m)     175.1268  \n",
       "347        newton per kilogram (N/kg)      9.80665  \n",
       "423                        newton (N)     8896.443  \n",
       "424                   kilonewton (kN)     8.896443  "
      ]
     },
     "execution_count": 29,
     "metadata": {},
     "output_type": "execute_result"
    }
   ],
   "source": [
    "Conversions[Conversions['to'].str.contains(\"newton \")]"
   ]
  },
  {
   "cell_type": "markdown",
   "metadata": {},
   "source": [
    "Look at what you want and see the index; it happens to be 340 in this example.  "
   ]
  },
  {
   "cell_type": "code",
   "execution_count": 30,
   "metadata": {},
   "outputs": [
    {
     "name": "stdout",
     "output_type": "stream",
     "text": [
      "Toconvertfrom    pound-force (lbf) 23\n",
      "to                         newton (N)\n",
      "Multiplyby                   4.448222\n",
      "Name: 340, dtype: object\n"
     ]
    }
   ],
   "source": [
    "lbf2N = Conversions.loc[340,:];\n",
    "print(lbf2N)"
   ]
  },
  {
   "cell_type": "markdown",
   "metadata": {},
   "source": [
    "Then the attributes can accessed by the column names.  "
   ]
  },
  {
   "cell_type": "code",
   "execution_count": 31,
   "metadata": {},
   "outputs": [
    {
     "name": "stdout",
     "output_type": "stream",
     "text": [
      "pound-force (lbf) 23\n",
      "newton (N)\n",
      "4.448222\n"
     ]
    }
   ],
   "source": [
    "print(lbf2N.Toconvertfrom)\n",
    "print(lbf2N.to)\n",
    "print(lbf2N.Multiplyby)"
   ]
  },
  {
   "cell_type": "markdown",
   "metadata": {},
   "source": [
    "So for example, the reusable SSME delivers a vacuum thrust of 470000 lb or "
   ]
  },
  {
   "cell_type": "code",
   "execution_count": 32,
   "metadata": {},
   "outputs": [
    {
     "name": "stdout",
     "output_type": "stream",
     "text": [
      "2090664.340000 newton (N)\n"
     ]
    }
   ],
   "source": [
    "print(470000 * lbf2N.Multiplyby, lbf2N.to) "
   ]
  },
  {
   "cell_type": "markdown",
   "metadata": {},
   "source": [
    "To obtain the conversion for pressure in psia, which we search for with \"psi\" "
   ]
  },
  {
   "cell_type": "code",
   "execution_count": 33,
   "metadata": {},
   "outputs": [
    {
     "data": {
      "text/html": [
       "<div>\n",
       "<style scoped>\n",
       "    .dataframe tbody tr th:only-of-type {\n",
       "        vertical-align: middle;\n",
       "    }\n",
       "\n",
       "    .dataframe tbody tr th {\n",
       "        vertical-align: top;\n",
       "    }\n",
       "\n",
       "    .dataframe thead th {\n",
       "        text-align: right;\n",
       "    }\n",
       "</style>\n",
       "<table border=\"1\" class=\"dataframe\">\n",
       "  <thead>\n",
       "    <tr style=\"text-align: right;\">\n",
       "      <th></th>\n",
       "      <th>Toconvertfrom</th>\n",
       "      <th>to</th>\n",
       "      <th>Multiplyby</th>\n",
       "    </tr>\n",
       "  </thead>\n",
       "  <tbody>\n",
       "    <tr>\n",
       "      <th>372</th>\n",
       "      <td>psi (pound-force per square inch) (lbf/in2)</td>\n",
       "      <td>pascal (Pa)</td>\n",
       "      <td>6894.757</td>\n",
       "    </tr>\n",
       "    <tr>\n",
       "      <th>373</th>\n",
       "      <td>psi (pound-force per square inch) (lbf/in2)</td>\n",
       "      <td>kilopascal (kPa)</td>\n",
       "      <td>6.894757</td>\n",
       "    </tr>\n",
       "  </tbody>\n",
       "</table>\n",
       "</div>"
      ],
      "text/plain": [
       "                                   Toconvertfrom                to Multiplyby\n",
       "372  psi (pound-force per square inch) (lbf/in2)       pascal (Pa)   6894.757\n",
       "373  psi (pound-force per square inch) (lbf/in2)  kilopascal (kPa)   6.894757"
      ]
     },
     "execution_count": 33,
     "metadata": {},
     "output_type": "execute_result"
    }
   ],
   "source": [
    "Conversions[Conversions['Toconvertfrom'].str.match(\"psi\")]"
   ]
  },
  {
   "cell_type": "markdown",
   "metadata": {},
   "source": [
    "So for a chamber pressure of 3028 psia for the SSME, "
   ]
  },
  {
   "cell_type": "code",
   "execution_count": 35,
   "metadata": {},
   "outputs": [
    {
     "name": "stdout",
     "output_type": "stream",
     "text": [
      "20877324.196 pascal (Pa)\n"
     ]
    }
   ],
   "source": [
    "psi2Pa = Conversions.loc[372,:]\n",
    "print(3028 * psi2Pa.Multiplyby, psi2Pa.to)"
   ]
  },
  {
   "cell_type": "markdown",
   "metadata": {},
   "source": [
    "Also, get the conversion for atmospheres (atm):"
   ]
  },
  {
   "cell_type": "code",
   "execution_count": 36,
   "metadata": {},
   "outputs": [
    {
     "data": {
      "text/html": [
       "<div>\n",
       "<style scoped>\n",
       "    .dataframe tbody tr th:only-of-type {\n",
       "        vertical-align: middle;\n",
       "    }\n",
       "\n",
       "    .dataframe tbody tr th {\n",
       "        vertical-align: top;\n",
       "    }\n",
       "\n",
       "    .dataframe thead th {\n",
       "        text-align: right;\n",
       "    }\n",
       "</style>\n",
       "<table border=\"1\" class=\"dataframe\">\n",
       "  <thead>\n",
       "    <tr style=\"text-align: right;\">\n",
       "      <th></th>\n",
       "      <th>Toconvertfrom</th>\n",
       "      <th>to</th>\n",
       "      <th>Multiplyby</th>\n",
       "    </tr>\n",
       "  </thead>\n",
       "  <tbody>\n",
       "    <tr>\n",
       "      <th>15</th>\n",
       "      <td>atmosphere, standard (atm)</td>\n",
       "      <td>pascal (Pa)</td>\n",
       "      <td>101325</td>\n",
       "    </tr>\n",
       "    <tr>\n",
       "      <th>16</th>\n",
       "      <td>atmosphere, standard (atm)</td>\n",
       "      <td>kilopascal (kPa)</td>\n",
       "      <td>101.325</td>\n",
       "    </tr>\n",
       "    <tr>\n",
       "      <th>17</th>\n",
       "      <td>atmosphere, technical (at) 8</td>\n",
       "      <td>pascal (Pa)</td>\n",
       "      <td>98066.5</td>\n",
       "    </tr>\n",
       "    <tr>\n",
       "      <th>18</th>\n",
       "      <td>atmosphere, technical (at) 8</td>\n",
       "      <td>kilopascal (kPa)</td>\n",
       "      <td>98.0665</td>\n",
       "    </tr>\n",
       "  </tbody>\n",
       "</table>\n",
       "</div>"
      ],
      "text/plain": [
       "                   Toconvertfrom                to Multiplyby\n",
       "15    atmosphere, standard (atm)       pascal (Pa)     101325\n",
       "16    atmosphere, standard (atm)  kilopascal (kPa)    101.325\n",
       "17  atmosphere, technical (at) 8       pascal (Pa)    98066.5\n",
       "18  atmosphere, technical (at) 8  kilopascal (kPa)    98.0665"
      ]
     },
     "execution_count": 36,
     "metadata": {},
     "output_type": "execute_result"
    }
   ],
   "source": [
    "Conversions[Conversions['Toconvertfrom'].str.match(\"atm\")]"
   ]
  },
  {
   "cell_type": "code",
   "execution_count": 37,
   "metadata": {},
   "outputs": [],
   "source": [
    "atm2Pa = Conversions.loc[15,:]"
   ]
  },
  {
   "cell_type": "code",
   "execution_count": 38,
   "metadata": {},
   "outputs": [
    {
     "name": "stdout",
     "output_type": "stream",
     "text": [
      "206.0431699580557611645694547 atmosphere, standard (atm)\n"
     ]
    }
   ],
   "source": [
    "print(3028 * psi2Pa.Multiplyby / atm2Pa.Multiplyby, atm2Pa.Toconvertfrom)"
   ]
  },
  {
   "cell_type": "code",
   "execution_count": null,
   "metadata": {},
   "outputs": [],
   "source": []
  }
 ],
 "metadata": {
  "kernelspec": {
   "display_name": "Python 3",
   "language": "python",
   "name": "python3"
  },
  "language_info": {
   "codemirror_mode": {
    "name": "ipython",
    "version": 3
   },
   "file_extension": ".py",
   "mimetype": "text/x-python",
   "name": "python",
   "nbconvert_exporter": "python",
   "pygments_lexer": "ipython3",
   "version": "3.7.1"
  }
 },
 "nbformat": 4,
 "nbformat_minor": 2
}
