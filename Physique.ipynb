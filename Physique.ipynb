{
 "cells": [
  {
   "cell_type": "markdown",
   "metadata": {},
   "source": [
    "# Physique \n",
    "### Mini Table of Contents\n",
    "\n",
    "* Create or refresh data files\n",
    "* Using Physique from a working directory not containing Physique itself\n",
    "* NIST Fundamental Constants\n",
    "* NIST Official Conversions (to metric) \n",
    "* Webscraping example: JPL Solar System Dynamics (JPL SSD) - Planets and Pluto"
   ]
  },
  {
   "cell_type": "markdown",
   "metadata": {},
   "source": [
    "## Create or refresh data files\n",
    "\n",
    "Create or refresh data files (if using Physique for the first time, do this first!) by running this script **in the** root directory of the project (i.e. `./Physique/`):\n",
    "\n",
    "```\n",
    "python3 ./Scripts/Refresh.py\n",
    "```\n",
    "For instance, you would leave this current directory, change to the directory above (or wherever it really is) for the root directory of the project, and type the above command in the command line.\n",
    "\n",
    "Alternatively, do it in Python here:"
   ]
  },
  {
   "cell_type": "code",
   "execution_count": 1,
   "metadata": {},
   "outputs": [
    {
     "name": "stdout",
     "output_type": "stream",
     "text": [
      "/home/mobicfd/ReacCFD/masters/Propulsion\n"
     ]
    }
   ],
   "source": [
    "import os\n",
    "print(os.getcwd())"
   ]
  },
  {
   "cell_type": "code",
   "execution_count": 2,
   "metadata": {},
   "outputs": [],
   "source": [
    "os.chdir(os.getcwd() + \"/Physique/\") # change current working directory"
   ]
  },
  {
   "cell_type": "code",
   "execution_count": 3,
   "metadata": {},
   "outputs": [
    {
     "name": "stdout",
     "output_type": "stream",
     "text": [
      "/home/mobicfd/ReacCFD/masters/Propulsion/Physique\n"
     ]
    }
   ],
   "source": [
    "print(os.getcwd())"
   ]
  },
  {
   "cell_type": "code",
   "execution_count": 4,
   "metadata": {},
   "outputs": [],
   "source": [
    "%run -i ./Scripts/Refresh.py # this is the main, important, command to run"
   ]
  },
  {
   "cell_type": "code",
   "execution_count": null,
   "metadata": {},
   "outputs": [],
   "source": []
  }
 ],
 "metadata": {
  "kernelspec": {
   "display_name": "Python 3",
   "language": "python",
   "name": "python3"
  },
  "language_info": {
   "codemirror_mode": {
    "name": "ipython",
    "version": 3
   },
   "file_extension": ".py",
   "mimetype": "text/x-python",
   "name": "python",
   "nbconvert_exporter": "python",
   "pygments_lexer": "ipython3",
   "version": "3.5.2"
  }
 },
 "nbformat": 4,
 "nbformat_minor": 2
}
