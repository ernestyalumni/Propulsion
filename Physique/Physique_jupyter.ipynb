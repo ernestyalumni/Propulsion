{
 "cells": [
  {
   "cell_type": "markdown",
   "metadata": {},
   "source": [
    "## Using Physique from a working directory not containing Physique itself"
   ]
  },
  {
   "cell_type": "code",
   "execution_count": 5,
   "metadata": {
    "collapsed": true
   },
   "outputs": [],
   "source": [
    "import os, sys"
   ]
  },
  {
   "cell_type": "markdown",
   "metadata": {},
   "source": [
    "Get the current directory"
   ]
  },
  {
   "cell_type": "code",
   "execution_count": 7,
   "metadata": {
    "collapsed": false
   },
   "outputs": [],
   "source": [
    "currentdir = os.getcwd(); os.getcwd();"
   ]
  },
  {
   "cell_type": "markdown",
   "metadata": {},
   "source": [
    "Then append the directory containing the Physique package/library (it's just a folder) with `sys.path.append`; the absolute path for where I placed it just happened to be `\"/Users/ernestyeung/Documents/TeslaModelSP85D\"`: substitute that for the absolute path you find (look at your Finder or File organizing program) "
   ]
  },
  {
   "cell_type": "code",
   "execution_count": 8,
   "metadata": {
    "collapsed": true
   },
   "outputs": [],
   "source": [
    "sys.path.append(\"/Users/ernestyeung/Documents/TeslaModelSP85D\")"
   ]
  },
  {
   "cell_type": "code",
   "execution_count": 9,
   "metadata": {
    "collapsed": false
   },
   "outputs": [
    {
     "name": "stdout",
     "output_type": "stream",
     "text": [
      "Physique\n",
      "Physique/rawdata/\n"
     ]
    }
   ],
   "source": [
    "import Physique"
   ]
  },
  {
   "cell_type": "markdown",
   "metadata": {},
   "source": [
    "Programming note: `__init__.py` in the main directory uses `os.path.dirname(__file__)` with `__file__` (literally that, it's not a placeholder name) being the string with the absolute pathname of the \"file from which the module was loaded, if it was loaded from a file\" (cf. [stackoverflow  Python __file__ attribute absolute or relative?](http://stackoverflow.com/questions/7116889/python-file-attribute-absolute-or-relative)), i.e. \"When a module is loaded in Python, `__file__` is set to its name. You can then use that with other functions to find the directory that the file is located in.\" (cf. [stackoverflow  what does the __file__ wildcard mean/do?](http://stackoverflow.com/questions/9271464/what-does-the-file-wildcard-mean-do/9271617))  "
   ]
  },
  {
   "cell_type": "markdown",
   "metadata": {},
   "source": [
    "# NIST Official Conversions"
   ]
  },
  {
   "cell_type": "markdown",
   "metadata": {},
   "source": [
    "This is the pandas DataFrame containing all the NIST Official Conversions to SI.  "
   ]
  },
  {
   "cell_type": "code",
   "execution_count": 11,
   "metadata": {
    "collapsed": true
   },
   "outputs": [],
   "source": [
    "convDF = Physique.conv"
   ]
  },
  {
   "cell_type": "code",
   "execution_count": 12,
   "metadata": {
    "collapsed": false
   },
   "outputs": [
    {
     "data": {
      "text/plain": [
       "Index([u'Toconvertfrom', u'to', u'Multiplyby'], dtype='object')"
      ]
     },
     "execution_count": 12,
     "metadata": {},
     "output_type": "execute_result"
    }
   ],
   "source": [
    "convDF.columns"
   ]
  },
  {
   "cell_type": "markdown",
   "metadata": {},
   "source": [
    "From the list of columns, search for the quantity you desired by trying out different search terms: e.g. I'm reading Huzel and Huang's **Modern Engineering for Design of Liquid-Propellant Rocket Engines** and I want to know how to convert from\n",
    "* lb (pound or pound-force) for thrust into force in Newton (N)\n",
    "* psia (pounds per square inch absolute) for (chamber) pressure into pressure in Pascal (Pa)\n",
    "\n",
    "We can try to look up the U.S. or Imperial units from the `Toconvertfrom` column.  "
   ]
  },
  {
   "cell_type": "code",
   "execution_count": 13,
   "metadata": {
    "collapsed": false
   },
   "outputs": [
    {
     "data": {
      "text/html": [
       "<div>\n",
       "<table border=\"1\" class=\"dataframe\">\n",
       "  <thead>\n",
       "    <tr style=\"text-align: right;\">\n",
       "      <th></th>\n",
       "      <th>Toconvertfrom</th>\n",
       "      <th>to</th>\n",
       "      <th>Multiplyby</th>\n",
       "    </tr>\n",
       "  </thead>\n",
       "  <tbody>\n",
       "    <tr>\n",
       "      <th>175</th>\n",
       "      <td>foot pound-force (ft · lbf)</td>\n",
       "      <td>joule (J)</td>\n",
       "      <td>1.355818</td>\n",
       "    </tr>\n",
       "    <tr>\n",
       "      <th>176</th>\n",
       "      <td>foot pound-force per hour (ft · lbf/h)</td>\n",
       "      <td>watt (W)</td>\n",
       "      <td>0.0003766161</td>\n",
       "    </tr>\n",
       "    <tr>\n",
       "      <th>177</th>\n",
       "      <td>foot pound-force per minute (ft · lbf/min)</td>\n",
       "      <td>watt (W)</td>\n",
       "      <td>0.02259697</td>\n",
       "    </tr>\n",
       "    <tr>\n",
       "      <th>178</th>\n",
       "      <td>foot pound-force per second (ft · lbf/s)</td>\n",
       "      <td>watt (W)</td>\n",
       "      <td>1.355818</td>\n",
       "    </tr>\n",
       "    <tr>\n",
       "      <th>340</th>\n",
       "      <td>pound-force (lbf) 23</td>\n",
       "      <td>newton (N)</td>\n",
       "      <td>4.448222</td>\n",
       "    </tr>\n",
       "    <tr>\n",
       "      <th>341</th>\n",
       "      <td>pound-force foot (lbf · ft)</td>\n",
       "      <td>newton meter (N · m)</td>\n",
       "      <td>1.355818</td>\n",
       "    </tr>\n",
       "    <tr>\n",
       "      <th>342</th>\n",
       "      <td>pound-force foot per inch (lbf · ft/in)</td>\n",
       "      <td>newton meter per meter (N · m/m)</td>\n",
       "      <td>53.37866</td>\n",
       "    </tr>\n",
       "    <tr>\n",
       "      <th>343</th>\n",
       "      <td>pound-force inch (lbf · in)</td>\n",
       "      <td>newton meter (N · m)</td>\n",
       "      <td>0.1129848</td>\n",
       "    </tr>\n",
       "    <tr>\n",
       "      <th>344</th>\n",
       "      <td>pound-force inch per inch (lbf · in/in)</td>\n",
       "      <td>newton meter per meter (N · m/m)</td>\n",
       "      <td>4.448222</td>\n",
       "    </tr>\n",
       "    <tr>\n",
       "      <th>345</th>\n",
       "      <td>pound-force per foot (lbf/ft)</td>\n",
       "      <td>newton per meter (N/m)</td>\n",
       "      <td>14.59390</td>\n",
       "    </tr>\n",
       "    <tr>\n",
       "      <th>346</th>\n",
       "      <td>pound-force per inch (lbf/in)</td>\n",
       "      <td>newton per meter (N/m)</td>\n",
       "      <td>175.1268</td>\n",
       "    </tr>\n",
       "    <tr>\n",
       "      <th>347</th>\n",
       "      <td>pound-force per pound (lbf/lb) \\n    (thrust t...</td>\n",
       "      <td>newton per kilogram (N/kg)</td>\n",
       "      <td>9.80665</td>\n",
       "    </tr>\n",
       "    <tr>\n",
       "      <th>348</th>\n",
       "      <td>pound-force per square foot (lbf/ft2)</td>\n",
       "      <td>pascal (Pa)</td>\n",
       "      <td>47.88026</td>\n",
       "    </tr>\n",
       "    <tr>\n",
       "      <th>349</th>\n",
       "      <td>pound-force per square inch (psi) \\n    (lbf/in2)</td>\n",
       "      <td>pascal (Pa)</td>\n",
       "      <td>6894.757</td>\n",
       "    </tr>\n",
       "    <tr>\n",
       "      <th>350</th>\n",
       "      <td>pound-force per square inch (psi) (lbf/in2)</td>\n",
       "      <td>kilopascal (kPa)</td>\n",
       "      <td>6.894757</td>\n",
       "    </tr>\n",
       "    <tr>\n",
       "      <th>351</th>\n",
       "      <td>pound-force second per square foot \\n    (lbf ...</td>\n",
       "      <td>pascal second (Pa · s)</td>\n",
       "      <td>47.88026</td>\n",
       "    </tr>\n",
       "    <tr>\n",
       "      <th>352</th>\n",
       "      <td>pound-force second per square inch \\n    (lbf ...</td>\n",
       "      <td>pascal second (Pa · s)</td>\n",
       "      <td>6894.757</td>\n",
       "    </tr>\n",
       "    <tr>\n",
       "      <th>372</th>\n",
       "      <td>psi (pound-force per square inch) (lbf/in2)</td>\n",
       "      <td>pascal (Pa)</td>\n",
       "      <td>6894.757</td>\n",
       "    </tr>\n",
       "    <tr>\n",
       "      <th>373</th>\n",
       "      <td>psi (pound-force per square inch) (lbf/in2)</td>\n",
       "      <td>kilopascal (kPa)</td>\n",
       "      <td>6.894757</td>\n",
       "    </tr>\n",
       "  </tbody>\n",
       "</table>\n",
       "</div>"
      ],
      "text/plain": [
       "                                         Toconvertfrom  \\\n",
       "175                        foot pound-force (ft · lbf)   \n",
       "176             foot pound-force per hour (ft · lbf/h)   \n",
       "177         foot pound-force per minute (ft · lbf/min)   \n",
       "178           foot pound-force per second (ft · lbf/s)   \n",
       "340                               pound-force (lbf) 23   \n",
       "341                        pound-force foot (lbf · ft)   \n",
       "342            pound-force foot per inch (lbf · ft/in)   \n",
       "343                        pound-force inch (lbf · in)   \n",
       "344            pound-force inch per inch (lbf · in/in)   \n",
       "345                      pound-force per foot (lbf/ft)   \n",
       "346                      pound-force per inch (lbf/in)   \n",
       "347  pound-force per pound (lbf/lb) \\n    (thrust t...   \n",
       "348              pound-force per square foot (lbf/ft2)   \n",
       "349  pound-force per square inch (psi) \\n    (lbf/in2)   \n",
       "350        pound-force per square inch (psi) (lbf/in2)   \n",
       "351  pound-force second per square foot \\n    (lbf ...   \n",
       "352  pound-force second per square inch \\n    (lbf ...   \n",
       "372        psi (pound-force per square inch) (lbf/in2)   \n",
       "373        psi (pound-force per square inch) (lbf/in2)   \n",
       "\n",
       "                                   to    Multiplyby  \n",
       "175                         joule (J)      1.355818  \n",
       "176                          watt (W)  0.0003766161  \n",
       "177                          watt (W)    0.02259697  \n",
       "178                          watt (W)      1.355818  \n",
       "340                        newton (N)      4.448222  \n",
       "341              newton meter (N · m)      1.355818  \n",
       "342  newton meter per meter (N · m/m)      53.37866  \n",
       "343              newton meter (N · m)     0.1129848  \n",
       "344  newton meter per meter (N · m/m)      4.448222  \n",
       "345            newton per meter (N/m)      14.59390  \n",
       "346            newton per meter (N/m)      175.1268  \n",
       "347        newton per kilogram (N/kg)       9.80665  \n",
       "348                       pascal (Pa)      47.88026  \n",
       "349                       pascal (Pa)      6894.757  \n",
       "350                  kilopascal (kPa)      6.894757  \n",
       "351            pascal second (Pa · s)      47.88026  \n",
       "352            pascal second (Pa · s)      6894.757  \n",
       "372                       pascal (Pa)      6894.757  \n",
       "373                  kilopascal (kPa)      6.894757  "
      ]
     },
     "execution_count": 13,
     "metadata": {},
     "output_type": "execute_result"
    }
   ],
   "source": [
    "convDF[convDF['Toconvertfrom'].str.contains(\"pound-force \")]"
   ]
  },
  {
   "cell_type": "markdown",
   "metadata": {},
   "source": [
    "Or we can look up the SI unit we want to convert to."
   ]
  },
  {
   "cell_type": "code",
   "execution_count": 14,
   "metadata": {
    "collapsed": false
   },
   "outputs": [
    {
     "data": {
      "text/html": [
       "<div>\n",
       "<table border=\"1\" class=\"dataframe\">\n",
       "  <thead>\n",
       "    <tr style=\"text-align: right;\">\n",
       "      <th></th>\n",
       "      <th>Toconvertfrom</th>\n",
       "      <th>to</th>\n",
       "      <th>Multiplyby</th>\n",
       "    </tr>\n",
       "  </thead>\n",
       "  <tbody>\n",
       "    <tr>\n",
       "      <th>137</th>\n",
       "      <td>dyne (dyn)</td>\n",
       "      <td>newton (N)</td>\n",
       "      <td>0.000010</td>\n",
       "    </tr>\n",
       "    <tr>\n",
       "      <th>138</th>\n",
       "      <td>dyne centimeter (dyn · cm)</td>\n",
       "      <td>newton meter (N · m)</td>\n",
       "      <td>1.0E-7</td>\n",
       "    </tr>\n",
       "    <tr>\n",
       "      <th>238</th>\n",
       "      <td>kilogram-force (kgf)</td>\n",
       "      <td>newton (N)</td>\n",
       "      <td>9.80665</td>\n",
       "    </tr>\n",
       "    <tr>\n",
       "      <th>239</th>\n",
       "      <td>kilogram-force meter (kgf · m)</td>\n",
       "      <td>newton meter (N · m)</td>\n",
       "      <td>9.80665</td>\n",
       "    </tr>\n",
       "    <tr>\n",
       "      <th>247</th>\n",
       "      <td>kilopond (kilogram-force) (kp)</td>\n",
       "      <td>newton (N)</td>\n",
       "      <td>9.80665</td>\n",
       "    </tr>\n",
       "    <tr>\n",
       "      <th>250</th>\n",
       "      <td>kip (1 kip= 1000 lbf)</td>\n",
       "      <td>newton (N)</td>\n",
       "      <td>4448.222</td>\n",
       "    </tr>\n",
       "    <tr>\n",
       "      <th>251</th>\n",
       "      <td>kip (1 kip= 1000 lbf)</td>\n",
       "      <td>kilonewton (kN)</td>\n",
       "      <td>4.448222</td>\n",
       "    </tr>\n",
       "    <tr>\n",
       "      <th>300</th>\n",
       "      <td>ounce (avoirdupois)-force (ozf)</td>\n",
       "      <td>newton (N)</td>\n",
       "      <td>0.2780139</td>\n",
       "    </tr>\n",
       "    <tr>\n",
       "      <th>301</th>\n",
       "      <td>ounce (avoirdupois)-force inch (ozf · in)</td>\n",
       "      <td>newton meter (N · m)</td>\n",
       "      <td>0.007061552</td>\n",
       "    </tr>\n",
       "    <tr>\n",
       "      <th>302</th>\n",
       "      <td>ounce (avoirdupois)-force inch (ozf · in)</td>\n",
       "      <td>millinewton meter (mN · m)</td>\n",
       "      <td>7.061552</td>\n",
       "    </tr>\n",
       "    <tr>\n",
       "      <th>336</th>\n",
       "      <td>poundal</td>\n",
       "      <td>newton (N)</td>\n",
       "      <td>0.1382550</td>\n",
       "    </tr>\n",
       "    <tr>\n",
       "      <th>340</th>\n",
       "      <td>pound-force (lbf) 23</td>\n",
       "      <td>newton (N)</td>\n",
       "      <td>4.448222</td>\n",
       "    </tr>\n",
       "    <tr>\n",
       "      <th>341</th>\n",
       "      <td>pound-force foot (lbf · ft)</td>\n",
       "      <td>newton meter (N · m)</td>\n",
       "      <td>1.355818</td>\n",
       "    </tr>\n",
       "    <tr>\n",
       "      <th>342</th>\n",
       "      <td>pound-force foot per inch (lbf · ft/in)</td>\n",
       "      <td>newton meter per meter (N · m/m)</td>\n",
       "      <td>53.37866</td>\n",
       "    </tr>\n",
       "    <tr>\n",
       "      <th>343</th>\n",
       "      <td>pound-force inch (lbf · in)</td>\n",
       "      <td>newton meter (N · m)</td>\n",
       "      <td>0.1129848</td>\n",
       "    </tr>\n",
       "    <tr>\n",
       "      <th>344</th>\n",
       "      <td>pound-force inch per inch (lbf · in/in)</td>\n",
       "      <td>newton meter per meter (N · m/m)</td>\n",
       "      <td>4.448222</td>\n",
       "    </tr>\n",
       "    <tr>\n",
       "      <th>345</th>\n",
       "      <td>pound-force per foot (lbf/ft)</td>\n",
       "      <td>newton per meter (N/m)</td>\n",
       "      <td>14.59390</td>\n",
       "    </tr>\n",
       "    <tr>\n",
       "      <th>346</th>\n",
       "      <td>pound-force per inch (lbf/in)</td>\n",
       "      <td>newton per meter (N/m)</td>\n",
       "      <td>175.1268</td>\n",
       "    </tr>\n",
       "    <tr>\n",
       "      <th>347</th>\n",
       "      <td>pound-force per pound (lbf/lb) \\n    (thrust t...</td>\n",
       "      <td>newton per kilogram (N/kg)</td>\n",
       "      <td>9.80665</td>\n",
       "    </tr>\n",
       "    <tr>\n",
       "      <th>423</th>\n",
       "      <td>ton-force (2000 lbf)</td>\n",
       "      <td>newton (N)</td>\n",
       "      <td>8896.443</td>\n",
       "    </tr>\n",
       "    <tr>\n",
       "      <th>424</th>\n",
       "      <td>ton-force (2000 lbf)</td>\n",
       "      <td>kilonewton (kN)</td>\n",
       "      <td>8.896443</td>\n",
       "    </tr>\n",
       "  </tbody>\n",
       "</table>\n",
       "</div>"
      ],
      "text/plain": [
       "                                         Toconvertfrom  \\\n",
       "137                                         dyne (dyn)   \n",
       "138                         dyne centimeter (dyn · cm)   \n",
       "238                               kilogram-force (kgf)   \n",
       "239                     kilogram-force meter (kgf · m)   \n",
       "247                     kilopond (kilogram-force) (kp)   \n",
       "250                              kip (1 kip= 1000 lbf)   \n",
       "251                              kip (1 kip= 1000 lbf)   \n",
       "300                    ounce (avoirdupois)-force (ozf)   \n",
       "301          ounce (avoirdupois)-force inch (ozf · in)   \n",
       "302          ounce (avoirdupois)-force inch (ozf · in)   \n",
       "336                                            poundal   \n",
       "340                               pound-force (lbf) 23   \n",
       "341                        pound-force foot (lbf · ft)   \n",
       "342            pound-force foot per inch (lbf · ft/in)   \n",
       "343                        pound-force inch (lbf · in)   \n",
       "344            pound-force inch per inch (lbf · in/in)   \n",
       "345                      pound-force per foot (lbf/ft)   \n",
       "346                      pound-force per inch (lbf/in)   \n",
       "347  pound-force per pound (lbf/lb) \\n    (thrust t...   \n",
       "423                               ton-force (2000 lbf)   \n",
       "424                               ton-force (2000 lbf)   \n",
       "\n",
       "                                   to   Multiplyby  \n",
       "137                        newton (N)     0.000010  \n",
       "138              newton meter (N · m)       1.0E-7  \n",
       "238                        newton (N)      9.80665  \n",
       "239              newton meter (N · m)      9.80665  \n",
       "247                        newton (N)      9.80665  \n",
       "250                        newton (N)     4448.222  \n",
       "251                   kilonewton (kN)     4.448222  \n",
       "300                        newton (N)    0.2780139  \n",
       "301              newton meter (N · m)  0.007061552  \n",
       "302        millinewton meter (mN · m)     7.061552  \n",
       "336                        newton (N)    0.1382550  \n",
       "340                        newton (N)     4.448222  \n",
       "341              newton meter (N · m)     1.355818  \n",
       "342  newton meter per meter (N · m/m)     53.37866  \n",
       "343              newton meter (N · m)    0.1129848  \n",
       "344  newton meter per meter (N · m/m)     4.448222  \n",
       "345            newton per meter (N/m)     14.59390  \n",
       "346            newton per meter (N/m)     175.1268  \n",
       "347        newton per kilogram (N/kg)      9.80665  \n",
       "423                        newton (N)     8896.443  \n",
       "424                   kilonewton (kN)     8.896443  "
      ]
     },
     "execution_count": 14,
     "metadata": {},
     "output_type": "execute_result"
    }
   ],
   "source": [
    "convDF[convDF['to'].str.contains(\"newton \")]"
   ]
  },
  {
   "cell_type": "markdown",
   "metadata": {},
   "source": [
    "Look at what you want and see the index; it happens to be 340 in this example.  "
   ]
  },
  {
   "cell_type": "code",
   "execution_count": 16,
   "metadata": {
    "collapsed": false
   },
   "outputs": [
    {
     "data": {
      "text/plain": [
       "Toconvertfrom    pound-force (lbf) 23\n",
       "to                         newton (N)\n",
       "Multiplyby                   4.448222\n",
       "Name: 340, dtype: object"
      ]
     },
     "execution_count": 16,
     "metadata": {},
     "output_type": "execute_result"
    }
   ],
   "source": [
    "lbf2N = convDF.loc[340,:]; lbf2N"
   ]
  },
  {
   "cell_type": "markdown",
   "metadata": {},
   "source": [
    "Then the attributes can accessed by the column names.  "
   ]
  },
  {
   "cell_type": "code",
   "execution_count": 19,
   "metadata": {
    "collapsed": false
   },
   "outputs": [
    {
     "name": "stdout",
     "output_type": "stream",
     "text": [
      "pound-force (lbf) 23 newton (N) 4.448222\n"
     ]
    }
   ],
   "source": [
    "print lbf2N.Toconvertfrom, lbf2N.to, lbf2N.Multiplyby"
   ]
  },
  {
   "cell_type": "markdown",
   "metadata": {},
   "source": [
    "So for example, the reusable SSME delivers a vacuum thrust of 470000 lb or "
   ]
  },
  {
   "cell_type": "code",
   "execution_count": 21,
   "metadata": {
    "collapsed": false
   },
   "outputs": [
    {
     "name": "stdout",
     "output_type": "stream",
     "text": [
      "2090664.340000 newton (N)\n"
     ]
    }
   ],
   "source": [
    "print 470000*lbf2N.Multiplyby, lbf2N.to "
   ]
  },
  {
   "cell_type": "markdown",
   "metadata": {},
   "source": [
    "To obtain the conversion for pressure in psia, which we search for with \"psi\" "
   ]
  },
  {
   "cell_type": "code",
   "execution_count": 22,
   "metadata": {
    "collapsed": false
   },
   "outputs": [
    {
     "data": {
      "text/html": [
       "<div>\n",
       "<table border=\"1\" class=\"dataframe\">\n",
       "  <thead>\n",
       "    <tr style=\"text-align: right;\">\n",
       "      <th></th>\n",
       "      <th>Toconvertfrom</th>\n",
       "      <th>to</th>\n",
       "      <th>Multiplyby</th>\n",
       "    </tr>\n",
       "  </thead>\n",
       "  <tbody>\n",
       "    <tr>\n",
       "      <th>372</th>\n",
       "      <td>psi (pound-force per square inch) (lbf/in2)</td>\n",
       "      <td>pascal (Pa)</td>\n",
       "      <td>6894.757</td>\n",
       "    </tr>\n",
       "    <tr>\n",
       "      <th>373</th>\n",
       "      <td>psi (pound-force per square inch) (lbf/in2)</td>\n",
       "      <td>kilopascal (kPa)</td>\n",
       "      <td>6.894757</td>\n",
       "    </tr>\n",
       "  </tbody>\n",
       "</table>\n",
       "</div>"
      ],
      "text/plain": [
       "                                   Toconvertfrom                to Multiplyby\n",
       "372  psi (pound-force per square inch) (lbf/in2)       pascal (Pa)   6894.757\n",
       "373  psi (pound-force per square inch) (lbf/in2)  kilopascal (kPa)   6.894757"
      ]
     },
     "execution_count": 22,
     "metadata": {},
     "output_type": "execute_result"
    }
   ],
   "source": [
    "convDF[convDF['Toconvertfrom'].str.match(\"psi\")]"
   ]
  },
  {
   "cell_type": "markdown",
   "metadata": {},
   "source": [
    "So for a chamber pressure of 3028 psia for the SSME, "
   ]
  },
  {
   "cell_type": "code",
   "execution_count": 23,
   "metadata": {
    "collapsed": true
   },
   "outputs": [],
   "source": [
    "psi2Pa = convDF.loc[372,:]"
   ]
  },
  {
   "cell_type": "code",
   "execution_count": 24,
   "metadata": {
    "collapsed": false
   },
   "outputs": [
    {
     "name": "stdout",
     "output_type": "stream",
     "text": [
      "20877324.196 pascal (Pa)\n"
     ]
    }
   ],
   "source": [
    "print 3028*psi2Pa.Multiplyby, psi2Pa.to"
   ]
  },
  {
   "cell_type": "markdown",
   "metadata": {},
   "source": [
    "Also, get the conversion for atmospheres (atm):"
   ]
  },
  {
   "cell_type": "code",
   "execution_count": 26,
   "metadata": {
    "collapsed": false
   },
   "outputs": [
    {
     "data": {
      "text/html": [
       "<div>\n",
       "<table border=\"1\" class=\"dataframe\">\n",
       "  <thead>\n",
       "    <tr style=\"text-align: right;\">\n",
       "      <th></th>\n",
       "      <th>Toconvertfrom</th>\n",
       "      <th>to</th>\n",
       "      <th>Multiplyby</th>\n",
       "    </tr>\n",
       "  </thead>\n",
       "  <tbody>\n",
       "    <tr>\n",
       "      <th>15</th>\n",
       "      <td>atmosphere, standard (atm)</td>\n",
       "      <td>pascal (Pa)</td>\n",
       "      <td>101325</td>\n",
       "    </tr>\n",
       "    <tr>\n",
       "      <th>16</th>\n",
       "      <td>atmosphere, standard (atm)</td>\n",
       "      <td>kilopascal (kPa)</td>\n",
       "      <td>101.325</td>\n",
       "    </tr>\n",
       "    <tr>\n",
       "      <th>17</th>\n",
       "      <td>atmosphere, technical (at) 8</td>\n",
       "      <td>pascal (Pa)</td>\n",
       "      <td>98066.5</td>\n",
       "    </tr>\n",
       "    <tr>\n",
       "      <th>18</th>\n",
       "      <td>atmosphere, technical (at) 8</td>\n",
       "      <td>kilopascal (kPa)</td>\n",
       "      <td>98.0665</td>\n",
       "    </tr>\n",
       "  </tbody>\n",
       "</table>\n",
       "</div>"
      ],
      "text/plain": [
       "                   Toconvertfrom                to Multiplyby\n",
       "15    atmosphere, standard (atm)       pascal (Pa)     101325\n",
       "16    atmosphere, standard (atm)  kilopascal (kPa)    101.325\n",
       "17  atmosphere, technical (at) 8       pascal (Pa)    98066.5\n",
       "18  atmosphere, technical (at) 8  kilopascal (kPa)    98.0665"
      ]
     },
     "execution_count": 26,
     "metadata": {},
     "output_type": "execute_result"
    }
   ],
   "source": [
    "convDF[convDF['Toconvertfrom'].str.match(\"atm\")]"
   ]
  },
  {
   "cell_type": "code",
   "execution_count": 27,
   "metadata": {
    "collapsed": true
   },
   "outputs": [],
   "source": [
    "atm2Pa = convDF.loc[15,:]"
   ]
  },
  {
   "cell_type": "code",
   "execution_count": 29,
   "metadata": {
    "collapsed": false
   },
   "outputs": [
    {
     "name": "stdout",
     "output_type": "stream",
     "text": [
      "206.0431699580557611645694547 atmosphere, standard (atm)\n"
     ]
    }
   ],
   "source": [
    "print 3028*psi2Pa.Multiplyby/atm2Pa.Multiplyby, atm2Pa.Toconvertfrom"
   ]
  },
  {
   "cell_type": "code",
   "execution_count": null,
   "metadata": {
    "collapsed": true
   },
   "outputs": [],
   "source": []
  }
 ],
 "metadata": {
  "kernelspec": {
   "display_name": "Python 2",
   "language": "python",
   "name": "python2"
  },
  "language_info": {
   "codemirror_mode": {
    "name": "ipython",
    "version": 2
   },
   "file_extension": ".py",
   "mimetype": "text/x-python",
   "name": "python",
   "nbconvert_exporter": "python",
   "pygments_lexer": "ipython2",
   "version": "2.7.11"
  }
 },
 "nbformat": 4,
 "nbformat_minor": 0
}
