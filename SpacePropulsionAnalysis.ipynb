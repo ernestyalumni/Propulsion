{
 "cells": [
  {
   "cell_type": "code",
   "execution_count": 1,
   "metadata": {},
   "outputs": [],
   "source": [
    "# Set up Physique for physical constants\n",
    "import Physique"
   ]
  },
  {
   "cell_type": "markdown",
   "metadata": {},
   "source": [
    "# Useful fundamental constants and units conversions"
   ]
  },
  {
   "cell_type": "code",
   "execution_count": 2,
   "metadata": {},
   "outputs": [],
   "source": [
    "from Physique import FundamentalPhysicalConstants as FPC"
   ]
  },
  {
   "cell_type": "code",
   "execution_count": 3,
   "metadata": {},
   "outputs": [
    {
     "name": "stdout",
     "output_type": "stream",
     "text": [
      "                             Quantity    Value Uncertainty    Unit\n",
      "303  standard acceleration of gravity  9.80665        None  m s^-2\n"
     ]
    }
   ],
   "source": [
    "g_0pd = FPC[FPC[\"Quantity\"].str.contains(\"gravity\") ] \n",
    "# standard acceleration of gravity as a panda DataFrame\n",
    "print(g_0pd)"
   ]
  },
  {
   "cell_type": "code",
   "execution_count": 4,
   "metadata": {},
   "outputs": [
    {
     "name": "stdout",
     "output_type": "stream",
     "text": [
      "<class 'decimal.Decimal'>\n",
      "9.80665\n"
     ]
    }
   ],
   "source": [
    "g_0 = g_0pd[\"Value\"].values[0]\n",
    "print(type(g_0))\n",
    "print(g_0)"
   ]
  },
  {
   "cell_type": "code",
   "execution_count": 5,
   "metadata": {},
   "outputs": [
    {
     "name": "stdout",
     "output_type": "stream",
     "text": [
      "303    standard acceleration of gravity\n",
      "Name: Quantity, dtype: object\n",
      "9.80665\n",
      "m s^-2\n"
     ]
    }
   ],
   "source": [
    "# access the values you're interested in \n",
    "print(g_0pd.Quantity)\n",
    "print(g_0pd.Value.get_values()[0]) \n",
    "print(g_0pd.Unit.get_values()[0])"
   ]
  },
  {
   "cell_type": "code",
   "execution_count": 6,
   "metadata": {},
   "outputs": [],
   "source": [
    "from Physique import Conversions"
   ]
  },
  {
   "cell_type": "code",
   "execution_count": 7,
   "metadata": {},
   "outputs": [
    {
     "data": {
      "text/html": [
       "<div>\n",
       "<style scoped>\n",
       "    .dataframe tbody tr th:only-of-type {\n",
       "        vertical-align: middle;\n",
       "    }\n",
       "\n",
       "    .dataframe tbody tr th {\n",
       "        vertical-align: top;\n",
       "    }\n",
       "\n",
       "    .dataframe thead th {\n",
       "        text-align: right;\n",
       "    }\n",
       "</style>\n",
       "<table border=\"1\" class=\"dataframe\">\n",
       "  <thead>\n",
       "    <tr style=\"text-align: right;\">\n",
       "      <th></th>\n",
       "      <th>Toconvertfrom</th>\n",
       "      <th>to</th>\n",
       "      <th>Multiplyby</th>\n",
       "    </tr>\n",
       "  </thead>\n",
       "  <tbody>\n",
       "    <tr>\n",
       "      <th>175</th>\n",
       "      <td>foot pound-force (ft · lbf)</td>\n",
       "      <td>joule (J)</td>\n",
       "      <td>1.355818</td>\n",
       "    </tr>\n",
       "    <tr>\n",
       "      <th>176</th>\n",
       "      <td>foot pound-force per hour (ft · lbf/h)</td>\n",
       "      <td>watt (W)</td>\n",
       "      <td>0.0003766161</td>\n",
       "    </tr>\n",
       "    <tr>\n",
       "      <th>177</th>\n",
       "      <td>foot pound-force per minute (ft · lbf/min)</td>\n",
       "      <td>watt (W)</td>\n",
       "      <td>0.02259697</td>\n",
       "    </tr>\n",
       "    <tr>\n",
       "      <th>178</th>\n",
       "      <td>foot pound-force per second (ft · lbf/s)</td>\n",
       "      <td>watt (W)</td>\n",
       "      <td>1.355818</td>\n",
       "    </tr>\n",
       "    <tr>\n",
       "      <th>340</th>\n",
       "      <td>pound-force (lbf) 23</td>\n",
       "      <td>newton (N)</td>\n",
       "      <td>4.448222</td>\n",
       "    </tr>\n",
       "    <tr>\n",
       "      <th>341</th>\n",
       "      <td>pound-force foot (lbf · ft)</td>\n",
       "      <td>newton meter (N · m)</td>\n",
       "      <td>1.355818</td>\n",
       "    </tr>\n",
       "    <tr>\n",
       "      <th>342</th>\n",
       "      <td>pound-force foot per inch (lbf · ft/in)</td>\n",
       "      <td>newton meter per meter (N · m/m)</td>\n",
       "      <td>53.37866</td>\n",
       "    </tr>\n",
       "    <tr>\n",
       "      <th>343</th>\n",
       "      <td>pound-force inch (lbf · in)</td>\n",
       "      <td>newton meter (N · m)</td>\n",
       "      <td>0.1129848</td>\n",
       "    </tr>\n",
       "    <tr>\n",
       "      <th>344</th>\n",
       "      <td>pound-force inch per inch (lbf · in/in)</td>\n",
       "      <td>newton meter per meter (N · m/m)</td>\n",
       "      <td>4.448222</td>\n",
       "    </tr>\n",
       "    <tr>\n",
       "      <th>345</th>\n",
       "      <td>pound-force per foot (lbf/ft)</td>\n",
       "      <td>newton per meter (N/m)</td>\n",
       "      <td>14.59390</td>\n",
       "    </tr>\n",
       "    <tr>\n",
       "      <th>346</th>\n",
       "      <td>pound-force per inch (lbf/in)</td>\n",
       "      <td>newton per meter (N/m)</td>\n",
       "      <td>175.1268</td>\n",
       "    </tr>\n",
       "    <tr>\n",
       "      <th>347</th>\n",
       "      <td>pound-force per pound (lbf/lb) (thrust to mass...</td>\n",
       "      <td>newton per kilogram (N/kg)</td>\n",
       "      <td>9.80665</td>\n",
       "    </tr>\n",
       "    <tr>\n",
       "      <th>348</th>\n",
       "      <td>pound-force per square foot (lbf/ft2)</td>\n",
       "      <td>pascal (Pa)</td>\n",
       "      <td>47.88026</td>\n",
       "    </tr>\n",
       "    <tr>\n",
       "      <th>349</th>\n",
       "      <td>pound-force per square inch (psi) (lbf/in2)</td>\n",
       "      <td>pascal (Pa)</td>\n",
       "      <td>6894.757</td>\n",
       "    </tr>\n",
       "    <tr>\n",
       "      <th>350</th>\n",
       "      <td>pound-force per square inch (psi) (lbf/in2)</td>\n",
       "      <td>kilopascal (kPa)</td>\n",
       "      <td>6.894757</td>\n",
       "    </tr>\n",
       "    <tr>\n",
       "      <th>351</th>\n",
       "      <td>pound-force second per square foot (lbf · s/ft2)</td>\n",
       "      <td>pascal second (Pa · s)</td>\n",
       "      <td>47.88026</td>\n",
       "    </tr>\n",
       "    <tr>\n",
       "      <th>352</th>\n",
       "      <td>pound-force second per square inch (lbf · s/in2)</td>\n",
       "      <td>pascal second (Pa · s)</td>\n",
       "      <td>6894.757</td>\n",
       "    </tr>\n",
       "    <tr>\n",
       "      <th>372</th>\n",
       "      <td>psi (pound-force per square inch) (lbf/in2)</td>\n",
       "      <td>pascal (Pa)</td>\n",
       "      <td>6894.757</td>\n",
       "    </tr>\n",
       "    <tr>\n",
       "      <th>373</th>\n",
       "      <td>psi (pound-force per square inch) (lbf/in2)</td>\n",
       "      <td>kilopascal (kPa)</td>\n",
       "      <td>6.894757</td>\n",
       "    </tr>\n",
       "  </tbody>\n",
       "</table>\n",
       "</div>"
      ],
      "text/plain": [
       "                                         Toconvertfrom  \\\n",
       "175                        foot pound-force (ft · lbf)   \n",
       "176             foot pound-force per hour (ft · lbf/h)   \n",
       "177         foot pound-force per minute (ft · lbf/min)   \n",
       "178           foot pound-force per second (ft · lbf/s)   \n",
       "340                               pound-force (lbf) 23   \n",
       "341                        pound-force foot (lbf · ft)   \n",
       "342            pound-force foot per inch (lbf · ft/in)   \n",
       "343                        pound-force inch (lbf · in)   \n",
       "344            pound-force inch per inch (lbf · in/in)   \n",
       "345                      pound-force per foot (lbf/ft)   \n",
       "346                      pound-force per inch (lbf/in)   \n",
       "347  pound-force per pound (lbf/lb) (thrust to mass...   \n",
       "348              pound-force per square foot (lbf/ft2)   \n",
       "349        pound-force per square inch (psi) (lbf/in2)   \n",
       "350        pound-force per square inch (psi) (lbf/in2)   \n",
       "351   pound-force second per square foot (lbf · s/ft2)   \n",
       "352   pound-force second per square inch (lbf · s/in2)   \n",
       "372        psi (pound-force per square inch) (lbf/in2)   \n",
       "373        psi (pound-force per square inch) (lbf/in2)   \n",
       "\n",
       "                                   to    Multiplyby  \n",
       "175                         joule (J)      1.355818  \n",
       "176                          watt (W)  0.0003766161  \n",
       "177                          watt (W)    0.02259697  \n",
       "178                          watt (W)      1.355818  \n",
       "340                        newton (N)      4.448222  \n",
       "341              newton meter (N · m)      1.355818  \n",
       "342  newton meter per meter (N · m/m)      53.37866  \n",
       "343              newton meter (N · m)     0.1129848  \n",
       "344  newton meter per meter (N · m/m)      4.448222  \n",
       "345            newton per meter (N/m)      14.59390  \n",
       "346            newton per meter (N/m)      175.1268  \n",
       "347        newton per kilogram (N/kg)       9.80665  \n",
       "348                       pascal (Pa)      47.88026  \n",
       "349                       pascal (Pa)      6894.757  \n",
       "350                  kilopascal (kPa)      6.894757  \n",
       "351            pascal second (Pa · s)      47.88026  \n",
       "352            pascal second (Pa · s)      6894.757  \n",
       "372                       pascal (Pa)      6894.757  \n",
       "373                  kilopascal (kPa)      6.894757  "
      ]
     },
     "execution_count": 7,
     "metadata": {},
     "output_type": "execute_result"
    }
   ],
   "source": [
    "Conversions[Conversions['Toconvertfrom'].str.contains(\"pound-force \")]"
   ]
  },
  {
   "cell_type": "code",
   "execution_count": 8,
   "metadata": {},
   "outputs": [
    {
     "data": {
      "text/html": [
       "<div>\n",
       "<style scoped>\n",
       "    .dataframe tbody tr th:only-of-type {\n",
       "        vertical-align: middle;\n",
       "    }\n",
       "\n",
       "    .dataframe tbody tr th {\n",
       "        vertical-align: top;\n",
       "    }\n",
       "\n",
       "    .dataframe thead th {\n",
       "        text-align: right;\n",
       "    }\n",
       "</style>\n",
       "<table border=\"1\" class=\"dataframe\">\n",
       "  <thead>\n",
       "    <tr style=\"text-align: right;\">\n",
       "      <th></th>\n",
       "      <th>Toconvertfrom</th>\n",
       "      <th>to</th>\n",
       "      <th>Multiplyby</th>\n",
       "    </tr>\n",
       "  </thead>\n",
       "  <tbody>\n",
       "    <tr>\n",
       "      <th>137</th>\n",
       "      <td>dyne (dyn)</td>\n",
       "      <td>newton (N)</td>\n",
       "      <td>0.000010</td>\n",
       "    </tr>\n",
       "    <tr>\n",
       "      <th>138</th>\n",
       "      <td>dyne centimeter (dyn · cm)</td>\n",
       "      <td>newton meter (N · m)</td>\n",
       "      <td>1.0E-7</td>\n",
       "    </tr>\n",
       "    <tr>\n",
       "      <th>238</th>\n",
       "      <td>kilogram-force (kgf)</td>\n",
       "      <td>newton (N)</td>\n",
       "      <td>9.80665</td>\n",
       "    </tr>\n",
       "    <tr>\n",
       "      <th>239</th>\n",
       "      <td>kilogram-force meter (kgf · m)</td>\n",
       "      <td>newton meter (N · m)</td>\n",
       "      <td>9.80665</td>\n",
       "    </tr>\n",
       "    <tr>\n",
       "      <th>247</th>\n",
       "      <td>kilopond (kilogram-force) (kp)</td>\n",
       "      <td>newton (N)</td>\n",
       "      <td>9.80665</td>\n",
       "    </tr>\n",
       "    <tr>\n",
       "      <th>250</th>\n",
       "      <td>kip (1 kip= 1000 lbf)</td>\n",
       "      <td>newton (N)</td>\n",
       "      <td>4448.222</td>\n",
       "    </tr>\n",
       "    <tr>\n",
       "      <th>251</th>\n",
       "      <td>kip (1 kip= 1000 lbf)</td>\n",
       "      <td>kilonewton (kN)</td>\n",
       "      <td>4.448222</td>\n",
       "    </tr>\n",
       "    <tr>\n",
       "      <th>300</th>\n",
       "      <td>ounce (avoirdupois)-force (ozf)</td>\n",
       "      <td>newton (N)</td>\n",
       "      <td>0.2780139</td>\n",
       "    </tr>\n",
       "    <tr>\n",
       "      <th>301</th>\n",
       "      <td>ounce (avoirdupois)-force inch (ozf · in)</td>\n",
       "      <td>newton meter (N · m)</td>\n",
       "      <td>0.007061552</td>\n",
       "    </tr>\n",
       "    <tr>\n",
       "      <th>302</th>\n",
       "      <td>ounce (avoirdupois)-force inch (ozf · in)</td>\n",
       "      <td>millinewton meter (mN · m)</td>\n",
       "      <td>7.061552</td>\n",
       "    </tr>\n",
       "    <tr>\n",
       "      <th>336</th>\n",
       "      <td>poundal</td>\n",
       "      <td>newton (N)</td>\n",
       "      <td>0.1382550</td>\n",
       "    </tr>\n",
       "    <tr>\n",
       "      <th>340</th>\n",
       "      <td>pound-force (lbf) 23</td>\n",
       "      <td>newton (N)</td>\n",
       "      <td>4.448222</td>\n",
       "    </tr>\n",
       "    <tr>\n",
       "      <th>341</th>\n",
       "      <td>pound-force foot (lbf · ft)</td>\n",
       "      <td>newton meter (N · m)</td>\n",
       "      <td>1.355818</td>\n",
       "    </tr>\n",
       "    <tr>\n",
       "      <th>342</th>\n",
       "      <td>pound-force foot per inch (lbf · ft/in)</td>\n",
       "      <td>newton meter per meter (N · m/m)</td>\n",
       "      <td>53.37866</td>\n",
       "    </tr>\n",
       "    <tr>\n",
       "      <th>343</th>\n",
       "      <td>pound-force inch (lbf · in)</td>\n",
       "      <td>newton meter (N · m)</td>\n",
       "      <td>0.1129848</td>\n",
       "    </tr>\n",
       "    <tr>\n",
       "      <th>344</th>\n",
       "      <td>pound-force inch per inch (lbf · in/in)</td>\n",
       "      <td>newton meter per meter (N · m/m)</td>\n",
       "      <td>4.448222</td>\n",
       "    </tr>\n",
       "    <tr>\n",
       "      <th>345</th>\n",
       "      <td>pound-force per foot (lbf/ft)</td>\n",
       "      <td>newton per meter (N/m)</td>\n",
       "      <td>14.59390</td>\n",
       "    </tr>\n",
       "    <tr>\n",
       "      <th>346</th>\n",
       "      <td>pound-force per inch (lbf/in)</td>\n",
       "      <td>newton per meter (N/m)</td>\n",
       "      <td>175.1268</td>\n",
       "    </tr>\n",
       "    <tr>\n",
       "      <th>347</th>\n",
       "      <td>pound-force per pound (lbf/lb) (thrust to mass...</td>\n",
       "      <td>newton per kilogram (N/kg)</td>\n",
       "      <td>9.80665</td>\n",
       "    </tr>\n",
       "    <tr>\n",
       "      <th>423</th>\n",
       "      <td>ton-force (2000 lbf)</td>\n",
       "      <td>newton (N)</td>\n",
       "      <td>8896.443</td>\n",
       "    </tr>\n",
       "    <tr>\n",
       "      <th>424</th>\n",
       "      <td>ton-force (2000 lbf)</td>\n",
       "      <td>kilonewton (kN)</td>\n",
       "      <td>8.896443</td>\n",
       "    </tr>\n",
       "  </tbody>\n",
       "</table>\n",
       "</div>"
      ],
      "text/plain": [
       "                                         Toconvertfrom  \\\n",
       "137                                         dyne (dyn)   \n",
       "138                         dyne centimeter (dyn · cm)   \n",
       "238                               kilogram-force (kgf)   \n",
       "239                     kilogram-force meter (kgf · m)   \n",
       "247                     kilopond (kilogram-force) (kp)   \n",
       "250                              kip (1 kip= 1000 lbf)   \n",
       "251                              kip (1 kip= 1000 lbf)   \n",
       "300                    ounce (avoirdupois)-force (ozf)   \n",
       "301          ounce (avoirdupois)-force inch (ozf · in)   \n",
       "302          ounce (avoirdupois)-force inch (ozf · in)   \n",
       "336                                            poundal   \n",
       "340                               pound-force (lbf) 23   \n",
       "341                        pound-force foot (lbf · ft)   \n",
       "342            pound-force foot per inch (lbf · ft/in)   \n",
       "343                        pound-force inch (lbf · in)   \n",
       "344            pound-force inch per inch (lbf · in/in)   \n",
       "345                      pound-force per foot (lbf/ft)   \n",
       "346                      pound-force per inch (lbf/in)   \n",
       "347  pound-force per pound (lbf/lb) (thrust to mass...   \n",
       "423                               ton-force (2000 lbf)   \n",
       "424                               ton-force (2000 lbf)   \n",
       "\n",
       "                                   to   Multiplyby  \n",
       "137                        newton (N)     0.000010  \n",
       "138              newton meter (N · m)       1.0E-7  \n",
       "238                        newton (N)      9.80665  \n",
       "239              newton meter (N · m)      9.80665  \n",
       "247                        newton (N)      9.80665  \n",
       "250                        newton (N)     4448.222  \n",
       "251                   kilonewton (kN)     4.448222  \n",
       "300                        newton (N)    0.2780139  \n",
       "301              newton meter (N · m)  0.007061552  \n",
       "302        millinewton meter (mN · m)     7.061552  \n",
       "336                        newton (N)    0.1382550  \n",
       "340                        newton (N)     4.448222  \n",
       "341              newton meter (N · m)     1.355818  \n",
       "342  newton meter per meter (N · m/m)     53.37866  \n",
       "343              newton meter (N · m)    0.1129848  \n",
       "344  newton meter per meter (N · m/m)     4.448222  \n",
       "345            newton per meter (N/m)     14.59390  \n",
       "346            newton per meter (N/m)     175.1268  \n",
       "347        newton per kilogram (N/kg)      9.80665  \n",
       "423                        newton (N)     8896.443  \n",
       "424                   kilonewton (kN)     8.896443  "
      ]
     },
     "execution_count": 8,
     "metadata": {},
     "output_type": "execute_result"
    }
   ],
   "source": [
    "Conversions[Conversions['to'].str.contains(\"newton \")]"
   ]
  },
  {
   "cell_type": "code",
   "execution_count": 9,
   "metadata": {},
   "outputs": [
    {
     "name": "stdout",
     "output_type": "stream",
     "text": [
      "Toconvertfrom    pound-force (lbf) 23\n",
      "to                         newton (N)\n",
      "Multiplyby                   4.448222\n",
      "Name: 340, dtype: object\n"
     ]
    }
   ],
   "source": [
    "lbf2N = Conversions.loc[340,:];\n",
    "print(lbf2N)"
   ]
  },
  {
   "cell_type": "code",
   "execution_count": 10,
   "metadata": {},
   "outputs": [
    {
     "name": "stdout",
     "output_type": "stream",
     "text": [
      "pound-force (lbf) 23\n",
      "newton (N)\n",
      "4.448222\n"
     ]
    }
   ],
   "source": [
    "print(lbf2N.Toconvertfrom)\n",
    "print(lbf2N.to)\n",
    "print(lbf2N.Multiplyby)"
   ]
  },
  {
   "cell_type": "markdown",
   "metadata": {},
   "source": [
    "## kinematics conversions; length, speed, acceleration"
   ]
  },
  {
   "cell_type": "code",
   "execution_count": 33,
   "metadata": {},
   "outputs": [],
   "source": [
    "Conversions[Conversions['Toconvertfrom'].str.contains(\"foot \")];"
   ]
  },
  {
   "cell_type": "code",
   "execution_count": 34,
   "metadata": {},
   "outputs": [
    {
     "name": "stdout",
     "output_type": "stream",
     "text": [
      "Toconvertfrom    pound-force (lbf) 23\n",
      "to                         newton (N)\n",
      "Multiplyby                   4.448222\n",
      "Name: 340, dtype: object\n"
     ]
    }
   ],
   "source": [
    "ft_to_m = Conversions.loc[340,:];\n",
    "print(ft_to_m)"
   ]
  },
  {
   "cell_type": "code",
   "execution_count": 38,
   "metadata": {},
   "outputs": [],
   "source": [
    "Conversions[Conversions['Toconvertfrom'].str.contains(\"mile \")];"
   ]
  },
  {
   "cell_type": "code",
   "execution_count": 37,
   "metadata": {},
   "outputs": [
    {
     "name": "stdout",
     "output_type": "stream",
     "text": [
      "Toconvertfrom         mile (mi)\n",
      "to               kilometer (km)\n",
      "Multiplyby             1.609344\n",
      "Name: 271, dtype: object\n"
     ]
    }
   ],
   "source": [
    "mi_to_km = Conversions.loc[271,:];\n",
    "print(mi_to_km)"
   ]
  },
  {
   "cell_type": "code",
   "execution_count": 39,
   "metadata": {},
   "outputs": [
    {
     "name": "stdout",
     "output_type": "stream",
     "text": [
      "Toconvertfrom      mile per hour (mi/h)\n",
      "to               meter per second (m/s)\n",
      "Multiplyby                      0.44704\n",
      "Name: 277, dtype: object\n"
     ]
    }
   ],
   "source": [
    "mph_to_m_per_s = Conversions.loc[277,:];\n",
    "print(mph_to_m_per_s)"
   ]
  },
  {
   "cell_type": "code",
   "execution_count": 43,
   "metadata": {},
   "outputs": [],
   "source": [
    "Conversions[Conversions['to'].str.contains(\"meter per \")];"
   ]
  },
  {
   "cell_type": "code",
   "execution_count": 42,
   "metadata": {},
   "outputs": [
    {
     "name": "stdout",
     "output_type": "stream",
     "text": [
      "Toconvertfrom    foot per second squared (ft/s2)\n",
      "to               meter per second squared (m/s2)\n",
      "Multiplyby                                0.3048\n",
      "Name: 173, dtype: object\n"
     ]
    }
   ],
   "source": [
    "ft_per_s2_to_m_per_s2 = Conversions.loc[173,:];\n",
    "print(ft_per_s2_to_m_per_s2)"
   ]
  },
  {
   "cell_type": "markdown",
   "metadata": {},
   "source": [
    "## mass and \"weight\" conversions"
   ]
  },
  {
   "cell_type": "code",
   "execution_count": 57,
   "metadata": {},
   "outputs": [
    {
     "data": {
      "text/html": [
       "<div>\n",
       "<style scoped>\n",
       "    .dataframe tbody tr th:only-of-type {\n",
       "        vertical-align: middle;\n",
       "    }\n",
       "\n",
       "    .dataframe tbody tr th {\n",
       "        vertical-align: top;\n",
       "    }\n",
       "\n",
       "    .dataframe thead th {\n",
       "        text-align: right;\n",
       "    }\n",
       "</style>\n",
       "<table border=\"1\" class=\"dataframe\">\n",
       "  <thead>\n",
       "    <tr style=\"text-align: right;\">\n",
       "      <th></th>\n",
       "      <th>Toconvertfrom</th>\n",
       "      <th>to</th>\n",
       "      <th>Multiplyby</th>\n",
       "    </tr>\n",
       "  </thead>\n",
       "  <tbody>\n",
       "    <tr>\n",
       "      <th>48</th>\n",
       "      <td>British thermal unitIT per pound (BtuIT/lb)</td>\n",
       "      <td>joule per kilogram (J/kg)</td>\n",
       "      <td>2326</td>\n",
       "    </tr>\n",
       "    <tr>\n",
       "      <th>49</th>\n",
       "      <td>British thermal unitth per pound (Btuth/lb)</td>\n",
       "      <td>joule per kilogram (J/kg)</td>\n",
       "      <td>2324.444</td>\n",
       "    </tr>\n",
       "    <tr>\n",
       "      <th>50</th>\n",
       "      <td>British thermal unitIT per pound degree Fahren...</td>\n",
       "      <td>joule per kilogram kelvin [J/(kg · K)]</td>\n",
       "      <td>4186.8</td>\n",
       "    </tr>\n",
       "    <tr>\n",
       "      <th>51</th>\n",
       "      <td>British thermal unitth per pound degree Fahren...</td>\n",
       "      <td>joule per kilogram kelvin [J/(kg · K)]</td>\n",
       "      <td>4184</td>\n",
       "    </tr>\n",
       "    <tr>\n",
       "      <th>52</th>\n",
       "      <td>British thermal unitIT per pound degree Rankin...</td>\n",
       "      <td>joule per kilogram kelvin [J/(kg · K)]</td>\n",
       "      <td>4186.8</td>\n",
       "    </tr>\n",
       "    <tr>\n",
       "      <th>53</th>\n",
       "      <td>British thermal unitth per pound degree Rankin...</td>\n",
       "      <td>joule per kilogram kelvin [J/(kg · K)]</td>\n",
       "      <td>4184</td>\n",
       "    </tr>\n",
       "    <tr>\n",
       "      <th>334</th>\n",
       "      <td>pound (avoirdupois) (lb) 22</td>\n",
       "      <td>kilogram (kg)</td>\n",
       "      <td>0.4535924</td>\n",
       "    </tr>\n",
       "    <tr>\n",
       "      <th>335</th>\n",
       "      <td>pound (troy or apothecary) (lb)</td>\n",
       "      <td>kilogram (kg)</td>\n",
       "      <td>0.3732417</td>\n",
       "    </tr>\n",
       "    <tr>\n",
       "      <th>339</th>\n",
       "      <td>pound foot squared (lb · ft2)</td>\n",
       "      <td>kilogram meter squared (kg · m2)</td>\n",
       "      <td>0.04214011</td>\n",
       "    </tr>\n",
       "    <tr>\n",
       "      <th>347</th>\n",
       "      <td>pound-force per pound (lbf/lb) (thrust to mass...</td>\n",
       "      <td>newton per kilogram (N/kg)</td>\n",
       "      <td>9.80665</td>\n",
       "    </tr>\n",
       "    <tr>\n",
       "      <th>353</th>\n",
       "      <td>pound inch squared (lb · in2)</td>\n",
       "      <td>kilogram meter squared (kg ·m2)</td>\n",
       "      <td>0.0002926397</td>\n",
       "    </tr>\n",
       "    <tr>\n",
       "      <th>354</th>\n",
       "      <td>pound per cubic foot (lb/ft3)</td>\n",
       "      <td>kilogram per cubic meter (kg/m3)</td>\n",
       "      <td>16.01846</td>\n",
       "    </tr>\n",
       "    <tr>\n",
       "      <th>355</th>\n",
       "      <td>pound per cubic inch (lb/in3)</td>\n",
       "      <td>kilogram per cubic meter (kg/m3)</td>\n",
       "      <td>27679.90</td>\n",
       "    </tr>\n",
       "    <tr>\n",
       "      <th>356</th>\n",
       "      <td>pound per cubic yard (lb/yd3)</td>\n",
       "      <td>kilogram per cubic meter (kg/m3)</td>\n",
       "      <td>0.5932764</td>\n",
       "    </tr>\n",
       "    <tr>\n",
       "      <th>357</th>\n",
       "      <td>pound per foot (lb/ft)</td>\n",
       "      <td>kilogram per meter (kg/m)</td>\n",
       "      <td>1.488164</td>\n",
       "    </tr>\n",
       "    <tr>\n",
       "      <th>360</th>\n",
       "      <td>pound per gallon [Canadian and U.K. (Imperial)...</td>\n",
       "      <td>kilogram per cubic meter (kg/m3)</td>\n",
       "      <td>99.77637</td>\n",
       "    </tr>\n",
       "    <tr>\n",
       "      <th>361</th>\n",
       "      <td>pound per gallon [Canadian and U.K. (Imperial)...</td>\n",
       "      <td>kilogram per liter (kg/L)</td>\n",
       "      <td>0.09977637</td>\n",
       "    </tr>\n",
       "    <tr>\n",
       "      <th>362</th>\n",
       "      <td>pound per gallon (U.S.) (lb/gal)</td>\n",
       "      <td>kilogram per cubic meter (kg/m3)</td>\n",
       "      <td>119.8264</td>\n",
       "    </tr>\n",
       "    <tr>\n",
       "      <th>363</th>\n",
       "      <td>pound per gallon (U.S.) (lb/gal)</td>\n",
       "      <td>kilogram per liter (kg/L)</td>\n",
       "      <td>0.1198264</td>\n",
       "    </tr>\n",
       "    <tr>\n",
       "      <th>364</th>\n",
       "      <td>pound per horsepower hour [lb/(hp · h)]</td>\n",
       "      <td>kilogram per joule (kg/J)</td>\n",
       "      <td>1.689659E-7</td>\n",
       "    </tr>\n",
       "    <tr>\n",
       "      <th>365</th>\n",
       "      <td>pound per hour (lb/h)</td>\n",
       "      <td>kilogram per second (kg/s)</td>\n",
       "      <td>0.0001259979</td>\n",
       "    </tr>\n",
       "    <tr>\n",
       "      <th>366</th>\n",
       "      <td>pound per inch (lb/in)</td>\n",
       "      <td>kilogram per meter (kg/m)</td>\n",
       "      <td>17.85797</td>\n",
       "    </tr>\n",
       "    <tr>\n",
       "      <th>367</th>\n",
       "      <td>pound per minute (lb/min)</td>\n",
       "      <td>kilogram per second (kg/s)</td>\n",
       "      <td>0.007559873</td>\n",
       "    </tr>\n",
       "    <tr>\n",
       "      <th>368</th>\n",
       "      <td>pound per second (lb/s)</td>\n",
       "      <td>kilogram per second (kg/s)</td>\n",
       "      <td>0.4535924</td>\n",
       "    </tr>\n",
       "    <tr>\n",
       "      <th>369</th>\n",
       "      <td>pound per square foot (lb/ft2)</td>\n",
       "      <td>kilogram per square meter (kg/m2)</td>\n",
       "      <td>4.882428</td>\n",
       "    </tr>\n",
       "    <tr>\n",
       "      <th>370</th>\n",
       "      <td>pound per square inch (not pound-force) (lb/in2)</td>\n",
       "      <td>kilogram per square meter (kg/m2)</td>\n",
       "      <td>703.0696</td>\n",
       "    </tr>\n",
       "    <tr>\n",
       "      <th>371</th>\n",
       "      <td>pound per yard (lb/yd)</td>\n",
       "      <td>kilogram per meter (kg/m)</td>\n",
       "      <td>0.4960546</td>\n",
       "    </tr>\n",
       "  </tbody>\n",
       "</table>\n",
       "</div>"
      ],
      "text/plain": [
       "                                         Toconvertfrom  \\\n",
       "48         British thermal unitIT per pound (BtuIT/lb)   \n",
       "49         British thermal unitth per pound (Btuth/lb)   \n",
       "50   British thermal unitIT per pound degree Fahren...   \n",
       "51   British thermal unitth per pound degree Fahren...   \n",
       "52   British thermal unitIT per pound degree Rankin...   \n",
       "53   British thermal unitth per pound degree Rankin...   \n",
       "334                        pound (avoirdupois) (lb) 22   \n",
       "335                    pound (troy or apothecary) (lb)   \n",
       "339                      pound foot squared (lb · ft2)   \n",
       "347  pound-force per pound (lbf/lb) (thrust to mass...   \n",
       "353                      pound inch squared (lb · in2)   \n",
       "354                      pound per cubic foot (lb/ft3)   \n",
       "355                      pound per cubic inch (lb/in3)   \n",
       "356                      pound per cubic yard (lb/yd3)   \n",
       "357                             pound per foot (lb/ft)   \n",
       "360  pound per gallon [Canadian and U.K. (Imperial)...   \n",
       "361  pound per gallon [Canadian and U.K. (Imperial)...   \n",
       "362                   pound per gallon (U.S.) (lb/gal)   \n",
       "363                   pound per gallon (U.S.) (lb/gal)   \n",
       "364            pound per horsepower hour [lb/(hp · h)]   \n",
       "365                              pound per hour (lb/h)   \n",
       "366                             pound per inch (lb/in)   \n",
       "367                          pound per minute (lb/min)   \n",
       "368                            pound per second (lb/s)   \n",
       "369                     pound per square foot (lb/ft2)   \n",
       "370   pound per square inch (not pound-force) (lb/in2)   \n",
       "371                             pound per yard (lb/yd)   \n",
       "\n",
       "                                         to    Multiplyby  \n",
       "48                joule per kilogram (J/kg)          2326  \n",
       "49                joule per kilogram (J/kg)      2324.444  \n",
       "50   joule per kilogram kelvin [J/(kg · K)]        4186.8  \n",
       "51   joule per kilogram kelvin [J/(kg · K)]          4184  \n",
       "52   joule per kilogram kelvin [J/(kg · K)]        4186.8  \n",
       "53   joule per kilogram kelvin [J/(kg · K)]          4184  \n",
       "334                           kilogram (kg)     0.4535924  \n",
       "335                           kilogram (kg)     0.3732417  \n",
       "339        kilogram meter squared (kg · m2)    0.04214011  \n",
       "347              newton per kilogram (N/kg)       9.80665  \n",
       "353         kilogram meter squared (kg ·m2)  0.0002926397  \n",
       "354        kilogram per cubic meter (kg/m3)      16.01846  \n",
       "355        kilogram per cubic meter (kg/m3)      27679.90  \n",
       "356        kilogram per cubic meter (kg/m3)     0.5932764  \n",
       "357               kilogram per meter (kg/m)      1.488164  \n",
       "360        kilogram per cubic meter (kg/m3)      99.77637  \n",
       "361               kilogram per liter (kg/L)    0.09977637  \n",
       "362        kilogram per cubic meter (kg/m3)      119.8264  \n",
       "363               kilogram per liter (kg/L)     0.1198264  \n",
       "364               kilogram per joule (kg/J)   1.689659E-7  \n",
       "365              kilogram per second (kg/s)  0.0001259979  \n",
       "366               kilogram per meter (kg/m)      17.85797  \n",
       "367              kilogram per second (kg/s)   0.007559873  \n",
       "368              kilogram per second (kg/s)     0.4535924  \n",
       "369       kilogram per square meter (kg/m2)      4.882428  \n",
       "370       kilogram per square meter (kg/m2)      703.0696  \n",
       "371               kilogram per meter (kg/m)     0.4960546  "
      ]
     },
     "execution_count": 57,
     "metadata": {},
     "output_type": "execute_result"
    }
   ],
   "source": [
    "Conversions[Conversions['to'].str.contains(\"kilogram\") & Conversions['Toconvertfrom'].str.contains(\"pound\")]"
   ]
  },
  {
   "cell_type": "code",
   "execution_count": 68,
   "metadata": {},
   "outputs": [
    {
     "name": "stdout",
     "output_type": "stream",
     "text": [
      "Toconvertfrom    pound (avoirdupois) (lb) 22\n",
      "to                             kilogram (kg)\n",
      "Multiplyby                         0.4535924\n",
      "Name: 334, dtype: object\n"
     ]
    }
   ],
   "source": [
    "lbm_to_kg = Conversions.loc[334,:];\n",
    "print(lbm_to_kg)"
   ]
  },
  {
   "cell_type": "markdown",
   "metadata": {},
   "source": [
    "# Specific Impulse"
   ]
  },
  {
   "cell_type": "code",
   "execution_count": 60,
   "metadata": {},
   "outputs": [],
   "source": [
    "F_avg_thrust_USC = 73500 # lbf; USC = United States Customary units"
   ]
  },
  {
   "cell_type": "code",
   "execution_count": 61,
   "metadata": {},
   "outputs": [],
   "source": [
    "I_s_RP1 = 353 # secs., max I_sp, https://en.wikipedia.org/wiki/RP-1"
   ]
  },
  {
   "cell_type": "code",
   "execution_count": 62,
   "metadata": {},
   "outputs": [
    {
     "name": "stdout",
     "output_type": "stream",
     "text": [
      "326944.317000\n"
     ]
    }
   ],
   "source": [
    "F_avg_thrust_SI = F_avg_thrust_USC * lbf2N.Multiplyby\n",
    "print(F_avg_thrust_SI)"
   ]
  },
  {
   "cell_type": "code",
   "execution_count": 63,
   "metadata": {},
   "outputs": [
    {
     "name": "stdout",
     "output_type": "stream",
     "text": [
      "94.44487840960206383628591970\n"
     ]
    }
   ],
   "source": [
    "m_dot_propellant_expelled_avg_SI = F_avg_thrust_SI / (I_s_RP1 * g_0)\n",
    "print(m_dot_propellant_expelled_avg_SI)"
   ]
  },
  {
   "cell_type": "code",
   "execution_count": 64,
   "metadata": {},
   "outputs": [],
   "source": [
    "T_burn = 3 * 60"
   ]
  },
  {
   "cell_type": "code",
   "execution_count": 65,
   "metadata": {},
   "outputs": [
    {
     "name": "stdout",
     "output_type": "stream",
     "text": [
      "17000.07811372837149053146555\n"
     ]
    }
   ],
   "source": [
    "m_propellant_tot_SI = m_dot_propellant_expelled_avg_SI * T_burn\n",
    "print(m_propellant_tot_SI)"
   ]
  },
  {
   "cell_type": "code",
   "execution_count": 66,
   "metadata": {},
   "outputs": [
    {
     "name": "stdout",
     "output_type": "stream",
     "text": [
      "22241.110000\n",
      "6.424821660517147199747341476\n",
      "2312.935797786172991909042931\n"
     ]
    }
   ],
   "source": [
    "F_avg_thrust_USC = 5000 # lbf; USC = United States Customary units\n",
    "F_avg_thrust_SI = F_avg_thrust_USC * lbf2N.Multiplyby\n",
    "print(F_avg_thrust_SI)\n",
    "m_dot_propellant_expelled_avg_SI = F_avg_thrust_SI / (I_s_RP1 * g_0)\n",
    "print(m_dot_propellant_expelled_avg_SI)\n",
    "T_burn = 6 * 60\n",
    "m_propellant_tot_SI = m_dot_propellant_expelled_avg_SI * T_burn\n",
    "print(m_propellant_tot_SI)"
   ]
  },
  {
   "cell_type": "code",
   "execution_count": 69,
   "metadata": {},
   "outputs": [
    {
     "name": "stdout",
     "output_type": "stream",
     "text": [
      "25854.7668000\n"
     ]
    }
   ],
   "source": [
    "M_0_lbm = 57000\n",
    "M_0_SI = M_0_lbm * lbm_to_kg.Multiplyby\n",
    "print(M_0_SI)"
   ]
  },
  {
   "cell_type": "code",
   "execution_count": 70,
   "metadata": {},
   "outputs": [
    {
     "data": {
      "text/plain": [
       "6541"
      ]
     },
     "execution_count": 70,
     "metadata": {},
     "output_type": "execute_result"
    }
   ],
   "source": [
    "25854 - (17000 + 2313) "
   ]
  },
  {
   "cell_type": "code",
   "execution_count": 71,
   "metadata": {},
   "outputs": [
    {
     "data": {
      "text/plain": [
       "0.2529976019184652"
      ]
     },
     "execution_count": 71,
     "metadata": {},
     "output_type": "execute_result"
    }
   ],
   "source": [
    "6541 / 25854."
   ]
  },
  {
   "cell_type": "code",
   "execution_count": 72,
   "metadata": {},
   "outputs": [
    {
     "name": "stdout",
     "output_type": "stream",
     "text": [
      "294.8350600\n",
      "498.9516400\n"
     ]
    }
   ],
   "source": [
    "print(650 * lbm_to_kg.Multiplyby)\n",
    "print(1100 * lbm_to_kg.Multiplyby)"
   ]
  },
  {
   "cell_type": "code",
   "execution_count": 73,
   "metadata": {},
   "outputs": [
    {
     "data": {
      "text/plain": [
       "0.24437575805000195"
      ]
     },
     "execution_count": 73,
     "metadata": {},
     "output_type": "execute_result"
    }
   ],
   "source": [
    "(6541 - 295) / (25854 - 295)"
   ]
  },
  {
   "cell_type": "code",
   "execution_count": 74,
   "metadata": {},
   "outputs": [
    {
     "data": {
      "text/plain": [
       "0.23826615129762563"
      ]
     },
     "execution_count": 74,
     "metadata": {},
     "output_type": "execute_result"
    }
   ],
   "source": [
    "(6541 - 500) / (25854 - 500)"
   ]
  },
  {
   "cell_type": "code",
   "execution_count": 75,
   "metadata": {},
   "outputs": [
    {
     "data": {
      "text/plain": [
       "0.25591768066043274"
      ]
     },
     "execution_count": 75,
     "metadata": {},
     "output_type": "execute_result"
    }
   ],
   "source": [
    "6541 / (25854 - 295)"
   ]
  },
  {
   "cell_type": "code",
   "execution_count": null,
   "metadata": {},
   "outputs": [],
   "source": []
  }
 ],
 "metadata": {
  "kernelspec": {
   "display_name": "Python 3",
   "language": "python",
   "name": "python3"
  },
  "language_info": {
   "codemirror_mode": {
    "name": "ipython",
    "version": 3
   },
   "file_extension": ".py",
   "mimetype": "text/x-python",
   "name": "python",
   "nbconvert_exporter": "python",
   "pygments_lexer": "ipython3",
   "version": "3.7.1"
  }
 },
 "nbformat": 4,
 "nbformat_minor": 2
}
